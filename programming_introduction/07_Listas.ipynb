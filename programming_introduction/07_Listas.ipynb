{
 "cells": [
  {
   "cell_type": "code",
   "execution_count": 2,
   "metadata": {},
   "outputs": [],
   "source": [
    "from IPython.display import Image, YouTubeVideo, HTML\n",
    "from IPython.core.display import display"
   ]
  },
  {
   "cell_type": "markdown",
   "metadata": {},
   "source": [
    "# Estrutura de Dados Primitiva (Listas)"
   ]
  },
  {
   "cell_type": "markdown",
   "metadata": {},
   "source": [
    "Vamos começar o estudo de um importante tipo de variável em python: as listas. Em outras linguagens, podemos fazer analogia das lista como `arrays`. No entanto, em Python tem algumas pequenas diferenças que serão abordadas ao longo do curso. Para começar nosso estudo, vamos tentar resolver o problema a seguir:"
   ]
  },
  {
   "cell_type": "markdown",
   "metadata": {},
   "source": [
    "## Atividade \n",
    "\n",
    "Construa um programa que leia uma lista de N alunos. Deve ser lido o nome e a nota de cada aluno. Quando terminar de ler todos os alunos, deve-se imprimir o nome do aluno juntamente com sua nota e a média da turma. Observe que nesse caso, a impressão deve ocorrer somente quando terminar de ler todos os nomes e notas dos N alunos. Como fazemos?"
   ]
  },
  {
   "cell_type": "code",
   "execution_count": 5,
   "metadata": {},
   "outputs": [
    {
     "data": {
      "text/html": [
       "<img src='https://media.giphy.com/media/xUA7b6G577b74RSS3e/giphy.gif' width='300'>"
      ],
      "text/plain": [
       "<IPython.core.display.HTML object>"
      ]
     },
     "metadata": {},
     "output_type": "display_data"
    }
   ],
   "source": [
    "display(HTML(\"<img src='https://media.giphy.com/media/xUA7b6G577b74RSS3e/giphy.gif' width='300'>\"))"
   ]
  },
  {
   "cell_type": "markdown",
   "metadata": {},
   "source": [
    "Resposta simples: Não fazemos!!! \n",
    "\n",
    "Com o que a gente aprendeu até o momento não é possível construir esse programa. A dúvida é simples, onde vamos armazenar os nomes e notas para que elas seja só impressas no final da leitura? \n",
    "\n",
    "O aluno pode pensar em construir uma variável distinta para cada nome e nota lidos. Mas como fazer isso, se não sabemos a quantidade de alunos que serão cadastrados? \n",
    "\n",
    "A resposta disso tudo está em um tipo de variável chamada **Lista**. "
   ]
  },
  {
   "cell_type": "markdown",
   "metadata": {},
   "source": [
    "### Entendendo as listas\n",
    "\n",
    "Uma lista em python é um tipo de variável especial que permite armazenar nela um conjunto de valores. Esses valores podem ser dos mais variados tipos, inclusive outras listas (mas vamos trabalhar com esse tipo mais para frente). Uma outra vantagem das listas é que ela permite acessar essas informações a partir de um índice.\n",
    "\n",
    "**Notação:**\n",
    "\n",
    "Os elementos de uma lista são colocados entre colchetes: `[]`. Por exemplo, o código a seguir cria uma lista vazia:\n",
    "\n",
    "```python\n",
    "lista = []\n",
    "```\n",
    "\n",
    "O código a seguir, cria uma lista com 5 valores inteiros:\n",
    "\n",
    "```python\n",
    "lista = [1, 2, 3, 4, 5]\n",
    "```\n",
    "\n",
    "\n"
   ]
  }
 ],
 "metadata": {
  "kernelspec": {
   "display_name": "Python 3",
   "language": "python",
   "name": "python3"
  },
  "language_info": {
   "codemirror_mode": {
    "name": "ipython",
    "version": 3
   },
   "file_extension": ".py",
   "mimetype": "text/x-python",
   "name": "python",
   "nbconvert_exporter": "python",
   "pygments_lexer": "ipython3",
   "version": "3.6.0"
  }
 },
 "nbformat": 4,
 "nbformat_minor": 2
}
