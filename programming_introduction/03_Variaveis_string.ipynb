{
 "cells": [
  {
   "cell_type": "code",
   "execution_count": 4,
   "metadata": {},
   "outputs": [],
   "source": [
    "# Desconsidere estas linhas para o estudo da disciplina\n",
    "\n",
    "from IPython.display import Image"
   ]
  },
  {
   "cell_type": "markdown",
   "metadata": {},
   "source": [
    "# Variáveis\n",
    "\n",
    "## O tipo String\n",
    "\n",
    "Vamos retornar nosso estudo de variáveis com o tipo `string`. Esse tipo permite que seja armazenado uma cadeia de caracteres como nomes e textos. Uma cadeia de caractere é uma sequência de símbolos como letras, numeros, sinais de pontuação etc. Por exemplo: `\"Os alunos estão no primeiro período do curso de jogos digitais. Eles devem finalizar o curso em 2 anos e meio.\"`. \n",
    "\n",
    "Observe que representamos o texto entre aspas `\"`. Isso é necessário para separar o conteúdo do texto do conteúdo do programa. Dessa forma, podemos delimitar exatamente o conteúdo do texto. Observer que podemos inserir tranquilamente espaços, pontos e outros caracteres sem problema. \n",
    "\n",
    "A primeira coisa que precisamos entender de uma string é exergá-la como uma cadeia de caracteres e que podemos acessar caractere por caractere. A imagem a seguir, mostra como devemos pensar a representação da string. "
   ]
  },
  {
   "cell_type": "code",
   "execution_count": 3,
   "metadata": {},
   "outputs": [],
   "source": [
    "string1 = \"Os alunos da UNIT.\""
   ]
  },
  {
   "cell_type": "code",
   "execution_count": 5,
   "metadata": {},
   "outputs": [
    {
     "data": {
      "image/png": "[encoded data removed]",
      "text/plain": [
       "<IPython.core.display.Image object>"
      ]
     },
     "execution_count": 5,
     "metadata": {
      "image/png": {
       "width": 600
      }
     },
     "output_type": "execute_result"
    }
   ],
   "source": [
    "# Desconsidere estas linhas para o estudo da disciplina\n",
    "Image(filename='images/02_image4.png', width=600) "
   ]
  },
  {
   "cell_type": "markdown",
   "metadata": {},
   "source": [
    "Observe que enxergamos a string como uma sequência de blocos, onde cada caractere ocupa um único bloco. Esse blocos podem ser acessados de acordo com um número. Vale ressaltar que as aspas `\"` não fazem parte da string. Ela é usada somente para delimitar o que é e o que não é texto. \n",
    "\n",
    "Vamos explorar algumas algumas funções e operações das strings. "
   ]
  },
  {
   "cell_type": "markdown",
   "metadata": {},
   "source": [
    "### Pegando o tamanho de uma string\n",
    "\n",
    "Podemos utilizar a função `len` para retornar o tamanho de uma string."
   ]
  },
  {
   "cell_type": "code",
   "execution_count": 7,
   "metadata": {},
   "outputs": [
    {
     "name": "stdout",
     "output_type": "stream",
     "text": [
      "18\n"
     ]
    }
   ],
   "source": [
    "string1 = \"Os alunos da UNIT.\"\n",
    "print(len(string1))"
   ]
  },
  {
   "cell_type": "markdown",
   "metadata": {},
   "source": [
    "Neste caso, 18 corresponde ao número de caracteres da string. "
   ]
  },
  {
   "cell_type": "markdown",
   "metadata": {},
   "source": [
    "Outra característica das strings é acessar o conteúdo caractere por caracter. Na imagem acima cada bloco é representado por um índice. É esse índice que usamos para acessar o caractere. Observe que a contagem dos caracteres começa a partir de 0 e vai até o índice `n-1` onde `n` é o tamanho da string. Vamos testar alguns exemplos. "
   ]
  },
  {
   "cell_type": "markdown",
   "metadata": {},
   "source": [
    "*Imprime o primeiro caractere da string*"
   ]
  },
  {
   "cell_type": "code",
   "execution_count": 8,
   "metadata": {},
   "outputs": [
    {
     "name": "stdout",
     "output_type": "stream",
     "text": [
      "O\n"
     ]
    }
   ],
   "source": [
    "print(string1[0])"
   ]
  },
  {
   "cell_type": "markdown",
   "metadata": {},
   "source": [
    "*Imprime o quinto termo da string* "
   ]
  },
  {
   "cell_type": "code",
   "execution_count": 9,
   "metadata": {},
   "outputs": [
    {
     "name": "stdout",
     "output_type": "stream",
     "text": [
      "l\n"
     ]
    }
   ],
   "source": [
    "print(string1[4])"
   ]
  },
  {
   "cell_type": "markdown",
   "metadata": {},
   "source": [
    "*Imprime o último elemento*"
   ]
  },
  {
   "cell_type": "code",
   "execution_count": 11,
   "metadata": {},
   "outputs": [
    {
     "name": "stdout",
     "output_type": "stream",
     "text": [
      ".\n"
     ]
    }
   ],
   "source": [
    "n = len(string1) - 1\n",
    "print(string1[n])"
   ]
  },
  {
   "cell_type": "markdown",
   "metadata": {},
   "source": [
    "*Uma forma muito mais interessante* "
   ]
  },
  {
   "cell_type": "code",
   "execution_count": 12,
   "metadata": {},
   "outputs": [
    {
     "name": "stdout",
     "output_type": "stream",
     "text": [
      ".\n"
     ]
    }
   ],
   "source": [
    "print(string1[-1])"
   ]
  },
  {
   "cell_type": "markdown",
   "metadata": {},
   "source": [
    "O índice `-1` indica a última posição da string. Assim como o índice `-2` indica a antepenúltima posição e assim por diante."
   ]
  },
  {
   "cell_type": "code",
   "execution_count": 17,
   "metadata": {},
   "outputs": [
    {
     "name": "stdout",
     "output_type": "stream",
     "text": [
      "T\n"
     ]
    }
   ],
   "source": [
    "print(string1[-2])"
   ]
  },
  {
   "cell_type": "markdown",
   "metadata": {},
   "source": [
    "Se tentarmos acessar uma posição que não existe, o python vai apresentar uma mensagem de erro. "
   ]
  },
  {
   "cell_type": "code",
   "execution_count": 15,
   "metadata": {},
   "outputs": [
    {
     "ename": "IndexError",
     "evalue": "string index out of range",
     "output_type": "error",
     "traceback": [
      "\u001b[0;31m---------------------------------------------------------------------------\u001b[0m",
      "\u001b[0;31mIndexError\u001b[0m                                Traceback (most recent call last)",
      "\u001b[0;32m<ipython-input-15-2ccd097802f4>\u001b[0m in \u001b[0;36m<module>\u001b[0;34m()\u001b[0m\n\u001b[0;32m----> 1\u001b[0;31m \u001b[0mprint\u001b[0m\u001b[0;34m(\u001b[0m\u001b[0mstring1\u001b[0m\u001b[0;34m[\u001b[0m\u001b[0;36m18\u001b[0m\u001b[0;34m]\u001b[0m\u001b[0;34m)\u001b[0m\u001b[0;34m\u001b[0m\u001b[0m\n\u001b[0m",
      "\u001b[0;31mIndexError\u001b[0m: string index out of range"
     ]
    }
   ],
   "source": [
    "print(string1[18])"
   ]
  },
  {
   "cell_type": "markdown",
   "metadata": {},
   "source": [
    "`string index out of range` indica que está tentando acessar um índice da string fora do limite delimitado pela string."
   ]
  },
  {
   "cell_type": "markdown",
   "metadata": {},
   "source": [
    "Assim como nas expressões aritméticas, as strings também tem suas operações. Vamos trabalhar com 3 tipos: concatenação, composição e fatiamento. Vamos analisar alguns exemplos de cada tipo de operação a seguir. "
   ]
  },
  {
   "cell_type": "markdown",
   "metadata": {},
   "source": [
    "### Concatenando Strings\n",
    "\n",
    "A operação de **concatenação** consiste em juntar duas strings. O operador que utilizamos é o sina de `+`. Vale ressaltar que é o mesmo operador que utilizamos para fazer a soma. No entanto, a soma só é realizada entre variáveis numéricas. Se as variáveis forem do tipo string, o python vai entender esse operador como sendo um operador de concatenação. Vamos aos exemplos."
   ]
  },
  {
   "cell_type": "code",
   "execution_count": 18,
   "metadata": {},
   "outputs": [
    {
     "name": "stdout",
     "output_type": "stream",
     "text": [
      "Aluno: João\n"
     ]
    }
   ],
   "source": [
    "string1 = \"Aluno: \"\n",
    "string2 = \"João\"\n",
    "\n",
    "print(string1 + string2)"
   ]
  },
  {
   "cell_type": "markdown",
   "metadata": {},
   "source": [
    "A concatenação pode ser feita dentro do próprio comando `print`:"
   ]
  },
  {
   "cell_type": "code",
   "execution_count": 19,
   "metadata": {},
   "outputs": [
    {
     "name": "stdout",
     "output_type": "stream",
     "text": [
      "O nome dele é João\n"
     ]
    }
   ],
   "source": [
    "nome = \"João\"\n",
    "print(\"O nome dele é \" + nome)"
   ]
  },
  {
   "cell_type": "markdown",
   "metadata": {},
   "source": [
    "Vamos ver como seria se concatenássemos um número com uma string. "
   ]
  },
  {
   "cell_type": "code",
   "execution_count": 20,
   "metadata": {},
   "outputs": [
    {
     "ename": "TypeError",
     "evalue": "unsupported operand type(s) for +: 'int' and 'str'",
     "output_type": "error",
     "traceback": [
      "\u001b[0;31m---------------------------------------------------------------------------\u001b[0m",
      "\u001b[0;31mTypeError\u001b[0m                                 Traceback (most recent call last)",
      "\u001b[0;32m<ipython-input-20-1065e293dd21>\u001b[0m in \u001b[0;36m<module>\u001b[0;34m()\u001b[0m\n\u001b[1;32m      2\u001b[0m \u001b[0mstring1\u001b[0m \u001b[0;34m=\u001b[0m \u001b[0;34m\"alunos\"\u001b[0m\u001b[0;34m\u001b[0m\u001b[0m\n\u001b[1;32m      3\u001b[0m \u001b[0;34m\u001b[0m\u001b[0m\n\u001b[0;32m----> 4\u001b[0;31m \u001b[0mprint\u001b[0m\u001b[0;34m(\u001b[0m\u001b[0mnumero1\u001b[0m \u001b[0;34m+\u001b[0m \u001b[0mstring1\u001b[0m\u001b[0;34m)\u001b[0m\u001b[0;34m\u001b[0m\u001b[0m\n\u001b[0m",
      "\u001b[0;31mTypeError\u001b[0m: unsupported operand type(s) for +: 'int' and 'str'"
     ]
    }
   ],
   "source": [
    "numero1 = 10 \n",
    "string1 = \"alunos\"\n",
    "\n",
    "print(numero1 + string1)"
   ]
  },
  {
   "cell_type": "markdown",
   "metadata": {},
   "source": [
    "Observe que o erro `unsupported operand type(s) for +: 'int' and 'str'` indica que o operador `+` não pode ser utilizado para concatenar um número inteiro com uma string. O que acontece é que o python só reconhece esse operador se for para juntar *duas strings* ou somar *dois inteiros*. "
   ]
  },
  {
   "cell_type": "markdown",
   "metadata": {},
   "source": [
    "**Como resolver?**\n",
    "\n",
    "Uma opção é transformar a variável `numero1` em uma string. Isso pode ser feito utilizando uma função pré-definida do python chamada `str`. Essa função converte um determinado valor em uma string. Vamos ver como utiliza-la."
   ]
  },
  {
   "cell_type": "code",
   "execution_count": 21,
   "metadata": {},
   "outputs": [
    {
     "name": "stdout",
     "output_type": "stream",
     "text": [
      "10alunos\n"
     ]
    }
   ],
   "source": [
    "numero1 = 10 \n",
    "string1 = \"alunos\"\n",
    "\n",
    "print(str(numero1) + string1)"
   ]
  },
  {
   "cell_type": "markdown",
   "metadata": {},
   "source": [
    "Simples né? Desta forma podemos criar impressões mais adequadas nas saídas. Vamos mais um exemplo:"
   ]
  },
  {
   "cell_type": "code",
   "execution_count": 23,
   "metadata": {},
   "outputs": [
    {
     "name": "stdout",
     "output_type": "stream",
     "text": [
      "A média do aluno é: 7.5\n"
     ]
    }
   ],
   "source": [
    "nota1 = 8\n",
    "nota2 = 7\n",
    "\n",
    "media = (nota1 + nota2) / 2\n",
    "print(\"A média do aluno é: \" + str(media))"
   ]
  },
  {
   "cell_type": "markdown",
   "metadata": {},
   "source": [
    "Ou ainda: "
   ]
  },
  {
   "cell_type": "code",
   "execution_count": 24,
   "metadata": {},
   "outputs": [
    {
     "name": "stdout",
     "output_type": "stream",
     "text": [
      "O aluno teve as notas 8 e 7 nas duas provas. A média foi: 7.5\n"
     ]
    }
   ],
   "source": [
    "nota1 = 8\n",
    "nota2 = 7\n",
    "\n",
    "media = (nota1 + nota2) / 2\n",
    "print(\"O aluno teve as notas \" + str(nota1) + \" e \" + str(nota2) + \" nas duas provas. A média foi: \" + str(media))"
   ]
  },
  {
   "cell_type": "markdown",
   "metadata": {},
   "source": [
    "### Composição de Strings\n",
    "\n",
    "A composição é uma operação já utilizada aqui no curso. Vamos voltar ao exemplo da primeira aula."
   ]
  },
  {
   "cell_type": "code",
   "execution_count": 28,
   "metadata": {},
   "outputs": [
    {
     "name": "stdout",
     "output_type": "stream",
     "text": [
      "O total é 18 \n"
     ]
    }
   ],
   "source": [
    "nota1 = 10\n",
    "nota2 = 8\n",
    "\n",
    "total = nota1 + nota2\n",
    "\n",
    "print(\"O total é %i \" % total)"
   ]
  },
  {
   "cell_type": "markdown",
   "metadata": {},
   "source": [
    "Utilizamos esse exemplo para imprimir a mensagem de forma mais adquada. Neste exemplo, utilizamos `%i` para indicar o local onde queríamos que o valor da variável `%total` fosse impresso. Após o texto, delimitamos o texto da variável pelo símbolo `%`. Essa forma de impressão é chamada de **composição**. Para imprimir saídas em texto, a composição é muito mais prática do que usar a concatenação. Isso fica mais claro se tivermos muitas variáveis para imprimir em uma única frase."
   ]
  },
  {
   "cell_type": "markdown",
   "metadata": {},
   "source": [
    "O marcador colocado na frase depende do tipo de variável que queremos imprimir. No exemplo, utilizamos `%i` porque a variável total era do tipo `inteiro`. Se a variável for uma `string` devemos utilizar `%s` e se for um número decimal, devemos utilizar `%f%`. Vamos ver um exemplo mais completo. "
   ]
  },
  {
   "cell_type": "code",
   "execution_count": 33,
   "metadata": {},
   "outputs": [
    {
     "name": "stdout",
     "output_type": "stream",
     "text": [
      "Joao tirou 8 na primeira unidade, 7 na segunda unidade. A média foi de 7.500000 \n"
     ]
    }
   ],
   "source": [
    "nome = \"Joao\"\n",
    "\n",
    "nota1 = 8\n",
    "nota2 = 7\n",
    "\n",
    "media = (nota1 + nota2) / 2\n",
    "\n",
    "print(\"%s tirou %i na primeira unidade, %i na segunda unidade. A média foi de %f \" % (nome, nota1, nota2, media))"
   ]
  },
  {
   "cell_type": "markdown",
   "metadata": {},
   "source": [
    "A composição permite formatar os variáveis de várias formas. No exemplo anterior, a média foi impressa com 6 casas decimais. Podemos utilizar a composição para imprimir o valor de forma mais adeaquada. Vamos ao exemplo: "
   ]
  },
  {
   "cell_type": "code",
   "execution_count": 34,
   "metadata": {},
   "outputs": [
    {
     "name": "stdout",
     "output_type": "stream",
     "text": [
      "Joao tirou 8 na primeira unidade, 7 na segunda unidade. A média foi de 7.50 \n"
     ]
    }
   ],
   "source": [
    "nome = \"Joao\"\n",
    "\n",
    "nota1 = 8\n",
    "nota2 = 7\n",
    "\n",
    "media = (nota1 + nota2) / 2\n",
    "\n",
    "print(\"%s tirou %i na primeira unidade, %i na segunda unidade. A média foi de %.2f \" % (nome, nota1, nota2, media))"
   ]
  },
  {
   "cell_type": "markdown",
   "metadata": {},
   "source": [
    "`%.2f` indica que o número float será impresso com duas casas decimais. Iremos explorar mais aspectos de impressão em uma atividade mais a frente no curso. "
   ]
  },
  {
   "cell_type": "markdown",
   "metadata": {},
   "source": [
    "### A última das operações: fatiando uma string\n",
    "\n",
    "A operação de fatiamento permite que a gente selecione uma substring dentro de uma string. Esse fatiamento é feito a partir dos índices. Para isso, acessamos a string da seguinte forma: `string[x:y]`, onde `x` indica a posição inicial da fatia e `y` o índice final. Esse intervalo é fechado em `x` e aberto em `y`. Ou seja, o índice `y` não é retornado na substring. Vamos ver alguns exemplos: "
   ]
  },
  {
   "cell_type": "code",
   "execution_count": 36,
   "metadata": {},
   "outputs": [
    {
     "name": "stdout",
     "output_type": "stream",
     "text": [
      "Os\n"
     ]
    }
   ],
   "source": [
    "string1 = \"Os alunos da UNIT.\"\n",
    "\n",
    "print(string1[0:2])"
   ]
  },
  {
   "cell_type": "markdown",
   "metadata": {},
   "source": [
    "Observe que retornamos os dois primeiros índices. Ou seja, do índice 0 até o 1, o 2 não entra na substring. Vamos mais alguns: "
   ]
  },
  {
   "cell_type": "code",
   "execution_count": 37,
   "metadata": {},
   "outputs": [
    {
     "name": "stdout",
     "output_type": "stream",
     "text": [
      "luno\n"
     ]
    }
   ],
   "source": [
    "string1 = \"Os alunos da UNIT.\"\n",
    "\n",
    "print(string1[4:8])"
   ]
  },
  {
   "cell_type": "markdown",
   "metadata": {},
   "source": [
    "Podemos omitir um dos valores (`x` ou `y`)."
   ]
  },
  {
   "cell_type": "code",
   "execution_count": 38,
   "metadata": {},
   "outputs": [
    {
     "name": "stdout",
     "output_type": "stream",
     "text": [
      "lunos da UNIT.\n"
     ]
    }
   ],
   "source": [
    "string1 = \"Os alunos da UNIT.\"\n",
    "\n",
    "print(string1[4:])"
   ]
  },
  {
   "cell_type": "markdown",
   "metadata": {},
   "source": [
    "`[4:]` imprime do quarto índice até o final da string."
   ]
  },
  {
   "cell_type": "code",
   "execution_count": 39,
   "metadata": {},
   "outputs": [
    {
     "name": "stdout",
     "output_type": "stream",
     "text": [
      "Os a\n"
     ]
    }
   ],
   "source": [
    "string1 = \"Os alunos da UNIT.\"\n",
    "\n",
    "print(string1[:4])"
   ]
  },
  {
   "cell_type": "markdown",
   "metadata": {},
   "source": [
    "`[:4]` imprime do ínicio até o terceiro índice."
   ]
  },
  {
   "cell_type": "code",
   "execution_count": 40,
   "metadata": {},
   "outputs": [
    {
     "name": "stdout",
     "output_type": "stream",
     "text": [
      "Os alunos da UNIT\n"
     ]
    }
   ],
   "source": [
    "string1 = \"Os alunos da UNIT.\"\n",
    "\n",
    "print(string1[0:-1])"
   ]
  },
  {
   "cell_type": "markdown",
   "metadata": {},
   "source": [
    "`[0:-1]` imprime do início até o penúltimo símbolo. Ou seja, o último (índice `-1` é descartado)."
   ]
  },
  {
   "cell_type": "code",
   "execution_count": 41,
   "metadata": {},
   "outputs": [
    {
     "name": "stdout",
     "output_type": "stream",
     "text": [
      ".\n"
     ]
    }
   ],
   "source": [
    "string1 = \"Os alunos da UNIT.\"\n",
    "\n",
    "print(string1[-1:])"
   ]
  },
  {
   "cell_type": "markdown",
   "metadata": {},
   "source": [
    "`[-1:]` imprime do último índice até o final do texto. "
   ]
  },
  {
   "cell_type": "markdown",
   "metadata": {},
   "source": [
    "### Ufa! Ainda temos mais string. \n",
    "\n",
    "A string é um tipo de dado bem poderoso. Por conta disso, vamos abordar mais sobre esse tipo em uma atividade mais a frente no curso. O conhecimento adiquirido nesta aula já permite fazer algumas coisas bem interessantes para imprimir mensagem na tela. Na próxima aula vamos trabalhar entrada e saída de dados. Na ocasião, vamos exercitar um pouco do que vimos nesta aula. "
   ]
  }
 ],
 "metadata": {
  "kernelspec": {
   "display_name": "Python 3",
   "language": "python",
   "name": "python3"
  },
  "language_info": {
   "codemirror_mode": {
    "name": "ipython",
    "version": 3
   },
   "file_extension": ".py",
   "mimetype": "text/x-python",
   "name": "python",
   "nbconvert_exporter": "python",
   "pygments_lexer": "ipython3",
   "version": "3.6.0"
  }
 },
 "nbformat": 4,
 "nbformat_minor": 2
}
