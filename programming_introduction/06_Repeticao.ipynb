{
 "cells": [
  {
   "cell_type": "markdown",
   "metadata": {},
   "source": [
    "# Repetição `(trabalhando com loops)`"
   ]
  },
  {
   "cell_type": "markdown",
   "metadata": {},
   "source": [
    "## Atividades\n",
    "\n",
    "01. Construa um programa que gere a tabuada de 1 até N. Para cada valor deve imprimir a a resolução até o décimo termo. Por exemplo, se N = 2, deve-se imprimir:\n",
    "\n",
    "```python\n",
    "Tabuada 1:\n",
    "1 x 1 = 1\n",
    "1 x 2 = 2\n",
    "1 x 3 = 3\n",
    "1 x 4 = 4\n",
    "1 x 5 = 5\n",
    "1 x 6 = 6\n",
    "1 x 7 = 7\n",
    "1 x 8 = 8\n",
    "1 x 9 = 9\n",
    "1 x 10 = 10\n",
    "\n",
    "Tabuada 2:\n",
    "2 x 1 = 2\n",
    "2 x 2 = 4\n",
    "2 x 3 = 6\n",
    "2 x 4 = 8\n",
    "2 x 5 = 10\n",
    "2 x 6 = 12\n",
    "2 x 7 = 14\n",
    "2 x 8 = 16\n",
    "2 x 9 = 18\n",
    "2 x 10 = 20\n",
    "```"
   ]
  },
  {
   "cell_type": "markdown",
   "metadata": {},
   "source": [
    "### Solução 1"
   ]
  },
  {
   "cell_type": "code",
   "execution_count": 9,
   "metadata": {},
   "outputs": [
    {
     "name": "stdout",
     "output_type": "stream",
     "text": [
      "Digite o valor de N2\n",
      "Tabuada de 1\n",
      " 1 x 1 \n",
      " 1 x 2 \n",
      " 1 x 3 \n",
      " 1 x 4 \n",
      " 1 x 5 \n",
      " 1 x 6 \n",
      " 1 x 7 \n",
      " 1 x 8 \n",
      " 1 x 9 \n",
      " 1 x 10 \n",
      "\n",
      "Tabuada de 2\n",
      " 2 x 1 \n",
      " 2 x 2 \n",
      " 2 x 3 \n",
      " 2 x 4 \n",
      " 2 x 5 \n",
      " 2 x 6 \n",
      " 2 x 7 \n",
      " 2 x 8 \n",
      " 2 x 9 \n",
      " 2 x 10 \n",
      "\n"
     ]
    }
   ],
   "source": [
    "N = int(input(\"Digite o valor de N\"))\n",
    "\n",
    "contador = 1\n",
    "\n",
    "while contador <= N:\n",
    "    print(\"Tabuada de %i\" % contador)\n",
    "    print(\" %i x 1 \" % contador)\n",
    "    print(\" %i x 2 \" % contador)\n",
    "    print(\" %i x 3 \" % contador)\n",
    "    print(\" %i x 4 \" % contador)\n",
    "    print(\" %i x 5 \" % contador)\n",
    "    print(\" %i x 6 \" % contador)\n",
    "    print(\" %i x 7 \" % contador)\n",
    "    print(\" %i x 8 \" % contador)\n",
    "    print(\" %i x 9 \" % contador)\n",
    "    print(\" %i x 10 \" % contador)\n",
    "    print(\"\")\n",
    "    \n",
    "    contador = contador + 1"
   ]
  },
  {
   "cell_type": "markdown",
   "metadata": {},
   "source": [
    "### Solução 2"
   ]
  },
  {
   "cell_type": "code",
   "execution_count": 8,
   "metadata": {
    "scrolled": true
   },
   "outputs": [
    {
     "name": "stdout",
     "output_type": "stream",
     "text": [
      "Digite o valor de N2\n",
      "Digite o valor de M2\n",
      "Tabuada de 1\n",
      "1 x 1 = 1\n",
      "1 x 2 = 2\n",
      "\n",
      "Tabuada de 2\n",
      "2 x 1 = 2\n",
      "2 x 2 = 4\n",
      "\n"
     ]
    }
   ],
   "source": [
    "N = int(input(\"Digite o valor de N\"))\n",
    "M = int(input(\"Digite o valor de M\"))\n",
    "\n",
    "contador = 1\n",
    "\n",
    "while contador <= N:\n",
    "    numero = 1\n",
    "    print(\"Tabuada de %i\" % contador)\n",
    "    while numero <= M:\n",
    "        print(\"%i x %i = %i\" % (contador, numero, numero*contador))\n",
    "        numero += 1\n",
    "        \n",
    "    print(\"\")\n",
    "    contador += 1"
   ]
  }
 ],
 "metadata": {
  "kernelspec": {
   "display_name": "Python 3",
   "language": "python",
   "name": "python3"
  },
  "language_info": {
   "codemirror_mode": {
    "name": "ipython",
    "version": 3
   },
   "file_extension": ".py",
   "mimetype": "text/x-python",
   "name": "python",
   "nbconvert_exporter": "python",
   "pygments_lexer": "ipython3",
   "version": "3.6.0"
  }
 },
 "nbformat": 4,
 "nbformat_minor": 2
}
