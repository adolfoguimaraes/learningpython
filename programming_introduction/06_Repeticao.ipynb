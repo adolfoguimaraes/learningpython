{
 "cells": [
  {
   "cell_type": "markdown",
   "metadata": {},
   "source": [
    "# Repetição `(trabalhando com loops)`"
   ]
  },
  {
   "cell_type": "markdown",
   "metadata": {},
   "source": [
    "## Atividades\n",
    "\n",
    "01. Construa um programa que gere a tabuada de 1 até N. Para cada valor deve imprimir a a resolução até o décimo termo. Por exemplo, se N = 2, deve-se imprimir:\n",
    "\n",
    "```python\n",
    "Tabuada 1:\n",
    "1 x 1 = 1\n",
    "1 x 2 = 2\n",
    "1 x 3 = 3\n",
    "1 x 4 = 4\n",
    "1 x 5 = 5\n",
    "1 x 6 = 6\n",
    "1 x 7 = 7\n",
    "1 x 8 = 8\n",
    "1 x 9 = 9\n",
    "1 x 10 = 10\n",
    "\n",
    "Tabuada 2:\n",
    "2 x 1 = 2\n",
    "2 x 2 = 4\n",
    "2 x 3 = 6\n",
    "2 x 4 = 8\n",
    "2 x 5 = 10\n",
    "2 x 6 = 12\n",
    "2 x 7 = 14\n",
    "2 x 8 = 16\n",
    "2 x 9 = 18\n",
    "2 x 10 = 20\n",
    "```"
   ]
  },
  {
   "cell_type": "markdown",
   "metadata": {},
   "source": [
    "### Solução 1"
   ]
  },
  {
   "cell_type": "code",
   "execution_count": 9,
   "metadata": {},
   "outputs": [
    {
     "name": "stdout",
     "output_type": "stream",
     "text": [
      "Digite o valor de N2\n",
      "Tabuada de 1\n",
      " 1 x 1 \n",
      " 1 x 2 \n",
      " 1 x 3 \n",
      " 1 x 4 \n",
      " 1 x 5 \n",
      " 1 x 6 \n",
      " 1 x 7 \n",
      " 1 x 8 \n",
      " 1 x 9 \n",
      " 1 x 10 \n",
      "\n",
      "Tabuada de 2\n",
      " 2 x 1 \n",
      " 2 x 2 \n",
      " 2 x 3 \n",
      " 2 x 4 \n",
      " 2 x 5 \n",
      " 2 x 6 \n",
      " 2 x 7 \n",
      " 2 x 8 \n",
      " 2 x 9 \n",
      " 2 x 10 \n",
      "\n"
     ]
    }
   ],
   "source": [
    "N = int(input(\"Digite o valor de N\"))\n",
    "\n",
    "contador = 1\n",
    "\n",
    "while contador <= N:\n",
    "    print(\"Tabuada de %i\" % contador)\n",
    "    print(\" %i x 1 \" % contador)\n",
    "    print(\" %i x 2 \" % contador)\n",
    "    print(\" %i x 3 \" % contador)\n",
    "    print(\" %i x 4 \" % contador)\n",
    "    print(\" %i x 5 \" % contador)\n",
    "    print(\" %i x 6 \" % contador)\n",
    "    print(\" %i x 7 \" % contador)\n",
    "    print(\" %i x 8 \" % contador)\n",
    "    print(\" %i x 9 \" % contador)\n",
    "    print(\" %i x 10 \" % contador)\n",
    "    print(\"\")\n",
    "    \n",
    "    contador = contador + 1"
   ]
  },
  {
   "cell_type": "markdown",
   "metadata": {},
   "source": [
    "### Solução 2"
   ]
  },
  {
   "cell_type": "code",
   "execution_count": 8,
   "metadata": {
    "scrolled": true
   },
   "outputs": [
    {
     "name": "stdout",
     "output_type": "stream",
     "text": [
      "Digite o valor de N2\n",
      "Digite o valor de M2\n",
      "Tabuada de 1\n",
      "1 x 1 = 1\n",
      "1 x 2 = 2\n",
      "\n",
      "Tabuada de 2\n",
      "2 x 1 = 2\n",
      "2 x 2 = 4\n",
      "\n"
     ]
    }
   ],
   "source": [
    "N = int(input(\"Digite o valor de N\"))\n",
    "M = int(input(\"Digite o valor de M\"))\n",
    "\n",
    "contador = 1\n",
    "\n",
    "while contador <= N:\n",
    "    numero = 1\n",
    "    print(\"Tabuada de %i\" % contador)\n",
    "    while numero <= M:\n",
    "        print(\"%i x %i = %i\" % (contador, numero, numero*contador))\n",
    "        numero += 1\n",
    "        \n",
    "    print(\"\")\n",
    "    contador += 1"
   ]
  },
  {
   "cell_type": "markdown",
   "metadata": {},
   "source": [
    "2. Construa um programa que permite ler a nota de vários alunos de várias turmas. Inicialmente o programa deve pedir a quantidade de turmas. Para cada turma, deve-se perguntar a quantidade de alunos daquela turma. Após a leitura da quantidade de alunos, o programa deve pedir a nota de cada aluno da turma corrente. Ao final, deve-se imprimir a média de cada turma e a média final de todas as turmas. "
   ]
  },
  {
   "cell_type": "code",
   "execution_count": 11,
   "metadata": {},
   "outputs": [
    {
     "name": "stdout",
     "output_type": "stream",
     "text": [
      "Digite o número de turmas: 2\n",
      "Digite o número de alunos da turma 05\n",
      "Digite a nota do aluno 02.5\n",
      "Digite a nota do aluno 13\n",
      "Digite a nota do aluno 24.5\n",
      "Digite a nota do aluno 36.5\n",
      "Digite a nota do aluno 44.5\n",
      "A média da turma 0 é 4.20\n",
      "Digite o número de alunos da turma 110\n",
      "Digite a nota do aluno 01\n",
      "Digite a nota do aluno 12\n",
      "Digite a nota do aluno 23\n",
      "Digite a nota do aluno 34\n",
      "Digite a nota do aluno 45\n",
      "Digite a nota do aluno 56\n",
      "Digite a nota do aluno 67\n",
      "Digite a nota do aluno 78\n",
      "Digite a nota do aluno 89\n",
      "Digite a nota do aluno 910\n",
      "A média da turma 1 é 5.50\n",
      "A média final das turmas é 4.85\n"
     ]
    }
   ],
   "source": [
    "numero_de_turmas = int(input(\"Digite o número de turmas: \"))\n",
    "\n",
    "contador_turmas = 0\n",
    "acc_nota_turmas = 0\n",
    "\n",
    "while contador_turmas < numero_de_turmas:\n",
    "    \n",
    "    numero_de_alunos = int(input(\"Digite o número de alunos da turma %i: \" % contador_turmas))\n",
    "    contador_alunos = 0\n",
    "    acc_nota_aluno = 0\n",
    "    \n",
    "    while contador_alunos < numero_de_alunos:\n",
    "        \n",
    "        nota_do_aluno = float(input(\"Digite a nota do aluno %i: \" % contador_alunos))\n",
    "        \n",
    "        acc_nota_aluno += nota_do_aluno\n",
    "        \n",
    "        contador_alunos += 1\n",
    "        \n",
    "    media_turma = acc_nota_aluno / numero_de_alunos\n",
    "    acc_nota_turmas += media_turma\n",
    "    print(\"A média da turma %i é %.2f\" % (contador_turmas, media_turma))\n",
    "                              \n",
    "    \n",
    "    contador_turmas += 1\n",
    "\n",
    "media_final_turmas = acc_nota_turmas / numero_de_turmas\n",
    "print(\"A média final das turmas é %.2f\" % media_final_turmas)"
   ]
  },
  {
   "cell_type": "code",
   "execution_count": null,
   "metadata": {},
   "outputs": [],
   "source": [
    "\n",
    "    "
   ]
  }
 ],
 "metadata": {
  "kernelspec": {
   "display_name": "Python 3.6",
   "language": "python",
   "name": "python36"
  },
  "language_info": {
   "codemirror_mode": {
    "name": "ipython",
    "version": 3
   },
   "file_extension": ".py",
   "mimetype": "text/x-python",
   "name": "python",
   "nbconvert_exporter": "python",
   "pygments_lexer": "ipython3",
   "version": "3.6.3"
  }
 },
 "nbformat": 4,
 "nbformat_minor": 2
}
