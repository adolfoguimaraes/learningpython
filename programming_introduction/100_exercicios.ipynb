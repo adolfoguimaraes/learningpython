{
 "cells": [
  {
   "cell_type": "code",
   "execution_count": 3,
   "metadata": {},
   "outputs": [
    {
     "name": "stdout",
     "output_type": "stream",
     "text": [
      "Última atualização: 27/05/2018\n"
     ]
    }
   ],
   "source": [
    "print(\"Última atualização: 27/05/2018\")"
   ]
  },
  {
   "cell_type": "markdown",
   "metadata": {},
   "source": [
    "# Exercícios\n",
    "\n",
    "Nesta página serão disponibilizados todos os exercícios do curso. Cada grupo de exercício está separado de acordo com o assunto correspondente. Esses exercícios devem ser utilizados para reforçar o entendimento dos conceitos básicos vistos durante o curso. "
   ]
  },
  {
   "cell_type": "markdown",
   "metadata": {},
   "source": [
    "## 1. First Step\n",
    "\n",
    "**1.1)** Crie um programa em Python onde serão lidos 6 números do usuário. Cada número vai ser armazenado em uma variável. Em seguida, calcule a soma do primeiro e do segundo e armazene em uma nova variável. Depois calcule a soma do terceiro e do quarto e armazene seu valor em outra variável. Por fim, armazene os valores da quinta e sexta variável. Quando tiver todos os valores calculados, crie uma variável `valor_final` com das 3 somas calculadas anteriormente. Imprima o valor final em uma mensagem formatada da seguinte maneira: `O valor final calculado foi X`, onde `X` é o valor de `valor_final`. "
   ]
  },
  {
   "cell_type": "markdown",
   "metadata": {},
   "source": [
    "## 2. Variáveis\n",
    "\n",
    "### Variáveis numéricas e lógicas\n",
    "\n",
    "**2.1)** Converta as seguintes expressões em Python: \n",
    "\n",
    "a) $10 + 20 \\times 30$\n",
    "\n",
    "\n",
    "b) $\\frac{4^2}{39}$\n",
    "\n",
    "\n",
    "c) $(9^4 + 2) \\times 6 - 1$\n",
    "\n",
    "\n",
    "d) $\\frac{10}{3} \\times 10^2 + 1 - 10 * \\frac{4}{2}$\n",
    "\n",
    "\n",
    "**2.2)** Faça um algoritmo que receba dois números inteiros e exiba a soma deles.\n",
    "\n",
    "**2.3)** Faça um algoritmo que dada uma temperatura em Celsius converta para Kelvin e para Fahrenheit. Imprimir os dois valores.\n",
    "\n",
    "**2.4)** Faça um algoritmo que leia um valor em dólar e converta-o para real. Considere que cada dólar vale R\\$ 3,40.\n",
    "\n",
    "**2.5)** Faça um algoritmo que receba o dia, o mês, o ano e imprima o valor correspondente em anos.\n",
    "\n",
    "**2.6)** Faça um algoritmo que receba as horas, os minutos e converta para horas.\n",
    "\n",
    "**2.7)** Escreva um algoritmo que troque o valor de duas variáveis. Imprima os valores das variáveis antes e depois da troca.\n",
    "\n",
    "**2.8)** Faça um algoritmo que leia o valor de uma compra e o número de prestações. O algoritmo deve imprimir o valor total da compra e o valor de cada prestação. Imprima o valor de uma expressão lógica que verifica se os valores de todas as prestações ficam acima de R\\$ 500. \n",
    "\n",
    "**2.9)** Em uma determinada loja, o salário do vendedor é composto por um salário fixo mais 15\\% de comissão em cima das vendas efetuadas. Escreva um algoritmo que calcule o valor final do salário de um vendedor que ao final do mês vendeu R\\$ 8000 em produtos. Imprima o salário final do vendedor. O vendedor recebe um bônus se a comissão for maior que R\\$ 1000. Imprima o valor da expressão lógica que testa esse critério."
   ]
  },
  {
   "cell_type": "markdown",
   "metadata": {},
   "source": [
    "### Strings, entrada e saída\n",
    "\n",
    "**2.10)** Crie um programa que leia duas notas e calcule a média ponderada do aluno. A primeira nota tem peso 4 e a segunda tem peso 6. Na saída imprima a mensage `O aluno obteve a média Z a partir das notas X e Y`, onde `Z` é a média ponderada calculada e `X` e `Y` as notas da prova 1 e 2, respectivamente. \n",
    "\n",
    "**2.11)** Escreva um programa que colete informações cadastrais de um aluno: nome, idade, data de nascimento, curso e período. Imprima estas informações da seguinte maneira:\n",
    "\n",
    "```\n",
    "Nome do Aluno: João da Silva\n",
    "Idade: 22 anos\n",
    "Data de Nascimento: 13/04/96\n",
    "Curso: Jogos Digitais\n",
    "Período: 1\n",
    "```\n",
    "\n",
    "**Dica: podemos utilizar `\\n` para criar uma quebra de linha. Pesquisem como usar.**\n",
    "\n",
    "**2.12)** Escreva um programa que leia o nome e nota de 5 alunos. Deve ser impresso o nome e a nota de cada aluno juntamente com a média das notas. Imprima tais informações da seguinte maneira:\n",
    "\n",
    "```\n",
    "Nota do aluno João da Silva: 7.5\n",
    "Nota do aluno Maria dos Santos: 8.0\n",
    "Nota do aluno Eduardo Santana: 6.0\n",
    "Nota do aluno Manoel Lima: 7.0\n",
    "Nota do aluno Aline Silva: 9.0\n",
    "----\n",
    "Média da Turma: 7.5\n",
    "```"
   ]
  },
  {
   "cell_type": "markdown",
   "metadata": {},
   "source": [
    "# 3. Condicionais\n",
    "\n",
    "**3.1)** Escreva um algoritmo que leia um número e determine se ele é par ou ímpar.\n",
    "\n",
    "**3.2)** Escreva um algoritmo que leia os números A e B e determine se A é divisível por B.\n",
    "\n",
    "**3.3)** Escreva um algoritmo que calcule a média de uma disciplina, imprima a média do aluno e a informação se ele foi aprovado ou reprovado. A média é calculada pela média ponderada de três notas com pesos 1, 2 e 3. O aluno é aprovado se obter média maior que 6.\n",
    "\n",
    "**3.4)** Escreva um algoritmo que leia a média de um aluno e a frequência (em %) na disciplina e imprima se o aluno foi aprovado ou reprovado. O aluno é aprovado se obter média maior que 6 e frequência maior que 75%. Se o aluno obter média menor que 6 ou frequência menor que 75% ele é reprovado. O aluno que obter média maior que 7 é aprovado independente da frequência.\n",
    "\n",
    "**3.5)** Escreva um algoritmo que leia três números. Determine o maior e o menor entre eles.\n",
    "\n",
    "**3.6)** Escreva um algoritmo que leia quatro números e escreva estes números em ordem crescente.\n",
    "\n"
   ]
  },
  {
   "cell_type": "markdown",
   "metadata": {},
   "source": [
    "# 4. Repetição\n",
    "\n",
    "**4.1)** Escreva um programa que imprima os números de 50 até 200. Utilize estrutura de repetição para resolver."
   ]
  },
  {
   "cell_type": "code",
   "execution_count": null,
   "metadata": {},
   "outputs": [],
   "source": [
    "contador = 50\n",
    "\n",
    "while contador <= 200:\n",
    "    print(contador)\n",
    "    contador += 1"
   ]
  },
  {
   "cell_type": "markdown",
   "metadata": {},
   "source": [
    "**4.2)** Escreva um programa que imprima uma contagem regressiva de 10 até 0. "
   ]
  },
  {
   "cell_type": "code",
   "execution_count": 4,
   "metadata": {},
   "outputs": [
    {
     "name": "stdout",
     "output_type": "stream",
     "text": [
      "10\n",
      "9\n",
      "8\n",
      "7\n",
      "6\n",
      "5\n",
      "4\n",
      "3\n",
      "2\n",
      "1\n",
      "0\n"
     ]
    }
   ],
   "source": [
    "contador = 10\n",
    "\n",
    "while contador >= 0:\n",
    "    print(contador)\n",
    "    contador -= 1"
   ]
  },
  {
   "cell_type": "markdown",
   "metadata": {},
   "source": [
    "**4.3)** Escreva um algortimo que simule uma calculadora. O usuário deve entrar com dois números inteiros e as opções '\\+', '\\-', '\\*' e '/'. A depender da opção escolhida pelo usuário, o algoritmo deve calcular a soma, a subtração, a multiplicação ou a divisão. Imprima o valor final da operação de acordo com a operação selecionada. No caso da divisão, o algoritmo deve prever o caso da divisão por zero. Ao final de cada operação realizada deve-se perguntar ao usuário se o mesmo deseja realizar outra operação. Se a resposta for **Sim** continua o programa do início. Se a resposta for **Não** encerra o programa. "
   ]
  },
  {
   "cell_type": "code",
   "execution_count": 46,
   "metadata": {},
   "outputs": [
    {
     "name": "stdout",
     "output_type": "stream",
     "text": [
      "Digite o primeiro número: 5\n",
      "Digite o segundo número: 4\n",
      "Digite a operação: +\n",
      "O resultado da operação é 9.00\n",
      "\n",
      "Deseja fazer uma nova operação? (S) Sim | (N) Não: S\n",
      "Digite o primeiro número: 3\n",
      "Digite o segundo número: 2\n",
      "Digite a operação: -\n",
      "O resultado da operação é 1.00\n",
      "\n",
      "Deseja fazer uma nova operação? (S) Sim | (N) Não: S\n",
      "Digite o primeiro número: 5\n",
      "Digite o segundo número: 4\n",
      "Digite a operação: *\n",
      "O resultado da operação é 20.00\n",
      "\n",
      "Deseja fazer uma nova operação? (S) Sim | (N) Não: S\n",
      "Digite o primeiro número: 9\n",
      "Digite o segundo número: 0\n",
      "Digite a operação: /\n",
      "No caso da divisão o denominador não pode ser 0. Repita a operação!\n",
      "\n",
      "Digite o primeiro número: 9\n",
      "Digite o segundo número: 2\n",
      "Digite a operação: /\n",
      "O resultado da operação é 4.50\n",
      "\n",
      "Deseja fazer uma nova operação? (S) Sim | (N) Não: S\n",
      "Digite o primeiro número: 4\n",
      "Digite o segundo número: 3\n",
      "Digite a operação: &\n",
      "Operação inválida. Repita o processo\n",
      "\n",
      "Digite o primeiro número: 4\n",
      "Digite o segundo número: 3\n",
      "Digite a operação: *\n",
      "O resultado da operação é 12.00\n",
      "\n",
      "Deseja fazer uma nova operação? (S) Sim | (N) Não: N\n"
     ]
    }
   ],
   "source": [
    "while True:\n",
    "    \n",
    "    numero1 = int(input(\"Digite o primeiro número: \" ))\n",
    "    \n",
    "    numero2 = int(input(\"Digite o segundo número: \"))\n",
    "    \n",
    "    operacao = input(\"Digite a operação: \")\n",
    "    \n",
    "    if operacao != '+' and operacao != '-' and operacao != '*' and operacao != '/':\n",
    "        print(\"Operação inválida. Repita o processo\")\n",
    "        print(\"\")\n",
    "        continue\n",
    "    if operacao == \"/\" and numero2 == 0:\n",
    "        print(\"No caso da divisão o denominador não pode ser 0. Repita a operação!\")\n",
    "        print(\"\")\n",
    "        continue\n",
    "    else:\n",
    "        \n",
    "        if operacao == '+':\n",
    "            resultado = numero1 + numero2\n",
    "        elif operacao == '-':\n",
    "            resultado = numero1 - numero2\n",
    "        elif operacao == '*':\n",
    "            resultado = numero1 * numero2\n",
    "        elif operacao == '/':\n",
    "            resultado = numero1 / numero2\n",
    "        \n",
    "    print(\"O resultado da operação é %.2f\" % resultado)\n",
    "    print(\"\")\n",
    "    continuar = input(\"Deseja fazer uma nova operação? (S) Sim | (N) Não: \")\n",
    "    \n",
    "    if continuar == 'S': \n",
    "        continue\n",
    "    elif continuar == 'N':\n",
    "        break\n",
    "    else:\n",
    "        print(\"Operação inválida\")\n",
    "        break"
   ]
  },
  {
   "cell_type": "markdown",
   "metadata": {},
   "source": [
    "**4.4)** Escreva um algoritmo que simule um guia interativo de TV. O usuário deve entrar com o número do canal e o código do programa. Imprima o nome do canal e o nome do programa que o usuário está assistindo de acordo com a tabela a seguir:\n",
    "\n",
    "| Número do Canal | Nome do Canal | Código do Programa | Nome do Programa |\n",
    "| --- | --- | --- | --- |\n",
    "| 1 | Fox | 1 | The Walking Dead | \n",
    "| 2 | HBO | 1 | Game of Thrones | \n",
    "| 4 | Globo | 1 | Altas Horas |\n",
    "| 4 | Globo | 2 | Jornal Nacional |\n",
    "| 8 | Band | 1 | MasterChef | \n",
    "\n",
    "O usuário sai do guia de programação se digitar -1. Caso o usuário digitar algum número errado, deve-se exibir uma mensagem informando o erro e pedindo para digitar um novo canal e programa. "
   ]
  },
  {
   "cell_type": "code",
   "execution_count": 69,
   "metadata": {},
   "outputs": [
    {
     "name": "stdout",
     "output_type": "stream",
     "text": [
      "Digite o número do canal: 4\n",
      "Digite o código do programa2\n",
      "Jornal Nacional\n",
      "Digite o número do canal: 1\n",
      "Digite o código do programa2\n",
      "Programa Inválido\n",
      "Digite o número do canal: 1\n",
      "Digite o código do programa1\n",
      "The Walking Dead\n",
      "Digite o número do canal: 8\n",
      "Digite o código do programa1\n",
      "MasterChef\n",
      "Digite o número do canal: -1\n",
      "Programa Encerrado\n"
     ]
    }
   ],
   "source": [
    "\n",
    "while True:\n",
    "\n",
    "    numero_canal = int(input(\"Digite o número do canal: \"))\n",
    "    \n",
    "    if numero_canal == -1:\n",
    "        print(\"Programa Encerrado\")\n",
    "        break\n",
    "    \n",
    "    codigo_do_programa = int(input(\"Digite o código do programa\"))\n",
    "    \n",
    "    if codigo_do_programa == -1:\n",
    "        print(\"Programa Encerrado\")\n",
    "        break\n",
    "\n",
    "    if numero_canal == 1:\n",
    "        if codigo_do_programa == 1:\n",
    "            print(\"The Walking Dead\")\n",
    "        else:\n",
    "            print(\"Programa Inválido\")\n",
    "    elif numero_canal == 2:\n",
    "        if codigo_do_programa == 1:\n",
    "            print(\"Game of Thrones\")\n",
    "        else:\n",
    "            print(\"Programa Inválido\")\n",
    "    elif numero_canal == 4:\n",
    "        if codigo_do_programa == 1:\n",
    "            print(\"Altas Horas\")\n",
    "        elif codigo_do_programa == 2:\n",
    "            print(\"Jornal Nacional\")\n",
    "        else:\n",
    "            print(\"Programa Inválido\")\n",
    "    elif numero_canal == 8:\n",
    "        if codigo_do_programa == 1:\n",
    "            print(\"MasterChef\")\n",
    "        else:\n",
    "            print(\"Programa Inválido\")\n",
    "    else:\n",
    "        \n",
    "        print(\"Programa Inválido\")\n",
    "        \n",
    "        \n",
    "    \n",
    "    "
   ]
  },
  {
   "cell_type": "markdown",
   "metadata": {},
   "source": [
    "**4.5)** Escreva um programa que leia um número e verifique se é ou não um número primo. Para fazer essa verificação, calcule o resto da divisão do número por 2 e depois por todos números ímpares até o número lido. Se o resto de uma dessas divisões for igual a zero, o número não é primo. Observe que 0 e 1 não são primos e que 2 é o único número primo que é par. "
   ]
  },
  {
   "cell_type": "code",
   "execution_count": 30,
   "metadata": {},
   "outputs": [
    {
     "name": "stdout",
     "output_type": "stream",
     "text": [
      "Digite o número: 997\n",
      "O número 997 é primo\n"
     ]
    }
   ],
   "source": [
    "numero = int(input(\"Digite o número: \"))\n",
    "\n",
    "eh_primo = True\n",
    "\n",
    "if numero == 0 or numero == 1: \n",
    "    eh_primo = False\n",
    "elif numero == 2:\n",
    "    eh_primo = True\n",
    "elif numero % 2 == 0:\n",
    "    eh_primo = False\n",
    "else:\n",
    "    \n",
    "    contador = 3\n",
    "    \n",
    "    while contador < numero:\n",
    "        \n",
    "        resto = numero % contador\n",
    "        if resto == 0:\n",
    "            eh_primo = False\n",
    "            break\n",
    "            \n",
    "        contador += 2\n",
    "        \n",
    "if eh_primo: \n",
    "    print(\"O número %i é primo\" % numero)\n",
    "else:\n",
    "    print(\"O número %i não é primo\" % numero)\n",
    "    "
   ]
  },
  {
   "cell_type": "markdown",
   "metadata": {},
   "source": [
    "**4.6)** Escreva um algoritmo que leia N números e ao final da leitura imprima o maior e o menor deles. "
   ]
  },
  {
   "cell_type": "code",
   "execution_count": 41,
   "metadata": {},
   "outputs": [
    {
     "name": "stdout",
     "output_type": "stream",
     "text": [
      "Digite a quantidade de números a serem lidos: 5\n",
      "Digite o número: 1\n",
      "Digite o número: 3\n",
      "Digite o número: 8\n",
      "Digite o número: 7\n",
      "Digite o número: 6\n",
      "O maior número é: 8 \n",
      "O menor número é: 1 \n"
     ]
    }
   ],
   "source": [
    "N = int(input(\"Digite a quantidade de números a serem lidos: \"))\n",
    "\n",
    "contador = 0\n",
    "    \n",
    "while contador < N:\n",
    "    \n",
    "    numero = int(input(\"Digite o número: \"))\n",
    "    \n",
    "    if contador == 0:\n",
    "        maior = numero\n",
    "        menor = numero\n",
    "    else:\n",
    "        \n",
    "        if numero > maior:\n",
    "            maior = numero\n",
    "        elif numero < menor:\n",
    "            menor = numero\n",
    "\n",
    "    contador += 1\n",
    "    \n",
    "print(\"O maior número é: %i \" % maior)\n",
    "print(\"O menor número é: %i \" % menor)\n",
    "    "
   ]
  },
  {
   "cell_type": "markdown",
   "metadata": {},
   "source": [
    "**4.7)** Escreva um programa que verifique se um número é palíndromo. Um número é palíndromo se continua o mesmo caso seus dígitos sejam invertidos. Exemplos: 454, 10501 são números palíndromos. Observe que o número não muda se lermos do final para o início. "
   ]
  },
  {
   "cell_type": "code",
   "execution_count": 36,
   "metadata": {},
   "outputs": [
    {
     "name": "stdout",
     "output_type": "stream",
     "text": [
      "Digite um número: 10501\n",
      "O número 10501 é palíndromo\n"
     ]
    }
   ],
   "source": [
    "numero = int(input(\"Digite um número: \"))\n",
    "\n",
    "aux = numero\n",
    "reverso = 0\n",
    "\n",
    "while aux != 0:\n",
    "    reverso = reverso * 10 + aux % 10\n",
    "    aux = aux // 10\n",
    "    \n",
    "if reverso == numero:\n",
    "    print(\"O número %i é palíndromo\" % numero)\n",
    "else:\n",
    "    print(\"O número %i não é palíndromo\" % numero)"
   ]
  },
  {
   "cell_type": "markdown",
   "metadata": {},
   "source": [
    "**4.8)** Construa um programa que permite ler a nota de vários alunos de várias turmas. Inicialmente o programa deve pedir a quantidade de turmas. Para cada turma, deve-se perguntar a quantidade de alunos daquela turma. Após a leitura da quantidade de alunos, o programa deve pedir a nota de cada aluno da turma corrente. Ao final, deve-se imprimir a média de cada turma e a média final de todas as turmas. "
   ]
  },
  {
   "cell_type": "code",
   "execution_count": 7,
   "metadata": {},
   "outputs": [
    {
     "name": "stdout",
     "output_type": "stream",
     "text": [
      "Digite a quantidade de turmas: 2\n",
      "Digite a quantidade de alunos: 3\n",
      "Digite a nota do aluno: 2.5\n",
      "A nota do aluno 0 é 2.50\n",
      "Digite a nota do aluno: 3.5\n",
      "A nota do aluno 1 é 3.50\n",
      "Digite a nota do aluno: 4.5\n",
      "A nota do aluno 2 é 4.50\n",
      "A média da turma é 3.5\n",
      "Digite a quantidade de alunos: 4\n",
      "Digite a nota do aluno: 1.0\n",
      "A nota do aluno 0 é 1.00\n",
      "Digite a nota do aluno: 1.4\n",
      "A nota do aluno 1 é 1.40\n",
      "Digite a nota do aluno: 2.3\n",
      "A nota do aluno 2 é 2.30\n",
      "Digite a nota do aluno: 4.5\n",
      "A nota do aluno 3 é 4.50\n",
      "A média da turma é 2.3\n"
     ]
    }
   ],
   "source": [
    "# Resposta da 4.8\n",
    "\n",
    "N_turma = int(input(\"Digite a quantidade de turmas: \"))\n",
    "contador = 0\n",
    "\n",
    "acumulador_turmas = 0\n",
    "\n",
    "while contador < N_turma:\n",
    "    \n",
    "    N_alunos = int(input(\"Digite a quantidade de alunos: \"))\n",
    "    \n",
    "    contador2 = 0\n",
    "    \n",
    "    acumulador_nota = 0\n",
    "    \n",
    "    while contador2 < N_alunos:\n",
    "        \n",
    "        nota = float(input(\"Digite a nota do aluno: \"))\n",
    "        \n",
    "        acumulador_nota = acumulador_nota + nota\n",
    "        \n",
    "        print(\"A nota do aluno %i é %.2f\" % (contador2, nota))\n",
    "        \n",
    "        contador2 = contador2 + 1\n",
    "        \n",
    "    media_da_turma = acumulador_nota / N_alunos\n",
    "    \n",
    "    acumulador_turma = acumulador_turma + media_da_turma\n",
    "    \n",
    "    print(\"A média da turma é %.1f\" % media_da_turma)\n",
    "    \n",
    "    contador = contador + 1\n",
    "\n",
    "media_das_turmas = acumulador_turma / N_turma\n",
    "print(\"A média das turmas é %.1f\" % media_das_turmas)"
   ]
  },
  {
   "cell_type": "markdown",
   "metadata": {},
   "source": [
    "# 5. Listas\n",
    "\n",
    "**5.1)** Escreva um programa que leia números inteiros. O programa deve ler estes números até que o usuário digite 0. Quando finalizar deve ser impresso a lista com os números, a soma de todos os números da lista e a média aritimética. \n",
    "\n",
    "**5.2)** Escreva um programa que retorne o maior e o menor número de uma lista. \n",
    "\n",
    "**5.3)** Escreva um programa que leia um número inteiro e uma lista de números. Ao final, deve-se gerar uma lista que contenha somente os números que são maiores que o número inteiro escolhido inicialmente. Se não existir nenhum número, imprima uma lista vazia. \n",
    "\n",
    "**5.4)** Escreva um programa que dada uma lista de inteiros exclua os números repetidos da lista, se existir. \n",
    "\n",
    "**5.5)** Escreva um programa que reorganize a seguinte lista `[1, 0, 0, 2, 8, 3, 4, 0, 5]` de forma que ela fique da seguinte maneira `[1, 2, 8, 3, 4, 5, 0, 0, 0]`. Ou seja, os zeros devem ficar todos no final do vetor. \n",
    "\n",
    "**5.6)** Escreva um programa que ordene em ordem crescente uma lista que não ordenada. \n",
    "\n",
    "**5.7)** Modifique o `Exemplo Final` apresentado no conteúdo de listas para atender os seguintes requisitos:\n",
    "\n",
    "**a)** Imprima os produtos iguais agrupados. Ou seja, ao invés de imprimir:\n",
    "\n",
    "```\n",
    "Refrigerante 2L ................... R$ 6.50\n",
    "Refrigerante 2L ................... R$ 6.50\n",
    "```\n",
    "Imprima:\n",
    "\n",
    "```    \n",
    "2x Refrigerante 2L ................... R$ 13.00 \n",
    "```\n",
    "\n",
    "**b)** Imprima a lista dos produtos na nota fiscal ordenada por preço (do menor para o maior).\n"
   ]
  }
 ],
 "metadata": {
  "kernelspec": {
   "display_name": "Python 3",
   "language": "python",
   "name": "python3"
  },
  "language_info": {
   "codemirror_mode": {
    "name": "ipython",
    "version": 3
   },
   "file_extension": ".py",
   "mimetype": "text/x-python",
   "name": "python",
   "nbconvert_exporter": "python",
   "pygments_lexer": "ipython3",
   "version": "3.6.0"
  }
 },
 "nbformat": 4,
 "nbformat_minor": 2
}
