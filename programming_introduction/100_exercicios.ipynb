{
 "cells": [
  {
   "cell_type": "markdown",
   "metadata": {},
   "source": [
    "`Última atualização: 06/05/2018`"
   ]
  },
  {
   "cell_type": "markdown",
   "metadata": {},
   "source": [
    "# Exercícios\n",
    "\n",
    "Nesta página serão disponibilizados todos os exercícios do curso. Cada grupo de exercício está separado de acordo com o assunto correspondente. Esses exercícios devem ser utilizados para reforçar o entendimento dos conceitos básicos vistos durante o curso. "
   ]
  },
  {
   "cell_type": "markdown",
   "metadata": {},
   "source": [
    "## 1. First Step\n",
    "\n",
    "**1.1)** Crie um programa em Python onde serão lidos 6 números do usuário. Cada número vai ser armazenado em uma variável. Em seguida, calcule a soma do primeiro e do segundo e armazene em uma nova variável. Depois calcule a soma do terceiro e do quarto e armazene seu valor em outra variável. Por fim, armazene os valores da quinta e sexta variável. Quando tiver todos os valores calculados, crie uma variável `valor_final` com das 3 somas calculadas anteriormente. Imprima o valor final em uma mensagem formatada da seguinte maneira: `O valor final calculado foi X`, onde `X` é o valor de `valor_final`. "
   ]
  },
  {
   "cell_type": "markdown",
   "metadata": {},
   "source": [
    "## 2. Variáveis\n",
    "\n",
    "### Variáveis numéricas e lógicas\n",
    "\n",
    "**2.1)** Converta as seguintes expressões em Python: \n",
    "\n",
    "a) $10 + 20 \\times 30$\n",
    "\n",
    "\n",
    "b) $\\frac{4^2}{39}$\n",
    "\n",
    "\n",
    "c) $(9^4 + 2) \\times 6 - 1$\n",
    "\n",
    "\n",
    "d) $\\frac{10}{3} \\times 10^2 + 1 - 10 * \\frac{4}{2}$\n",
    "\n",
    "\n",
    "**2.2)** Faça um algoritmo que receba dois números inteiros e exiba a soma deles.\n",
    "\n",
    "**2.3)** Faça um algoritmo que dada uma temperatura em Celsius converta para Kelvin e para Fahrenheit. Imprimir os dois valores.\n",
    "\n",
    "**2.4)** Faça um algoritmo que leia um valor em dólar e converta-o para real. Considere que cada dólar vale R\\$ 3,40.\n",
    "\n",
    "**2.5)** Faça um algoritmo que receba o dia, o mês, o ano e imprima o valor correspondente em anos.\n",
    "\n",
    "**2.6)** Faça um algoritmo que receba as horas, os minutos e converta para horas.\n",
    "\n",
    "**2.7)** Escreva um algoritmo que troque o valor de duas variáveis. Imprima os valores das variáveis antes e depois da troca.\n",
    "\n",
    "**2.8)** Faça um algoritmo que leia o valor de uma compra e o número de prestações. O algoritmo deve imprimir o valor total da compra e o valor de cada prestação. Imprima o valor de uma expressão lógica que verifica se os valores de todas as prestações ficam acima de R\\$ 500. \n",
    "\n",
    "**2.9)** Em uma determinada loja, o salário do vendedor é composto por um salário fixo mais 15\\% de comissão em cima das vendas efetuadas. Escreva um algoritmo que calcule o valor final do salário de um vendedor que ao final do mês vendeu R\\$ 8000 em produtos. Imprima o salário final do vendedor. O vendedor recebe um bônus se a comissão for maior que R\\$ 1000. Imprima o valor da expressão lógica que testa esse critério."
   ]
  },
  {
   "cell_type": "markdown",
   "metadata": {},
   "source": [
    "### Strings, entrada e saída\n",
    "\n",
    "**2.10)** Crie um programa que leia duas notas e calcule a média ponderada do aluno. A primeira nota tem peso 4 e a segunda tem peso 6. Na saída imprima a mensage `O aluno obteve a média Z a partir das notas X e Y`, onde `Z` é a média ponderada calculada e `X` e `Y` as notas da prova 1 e 2, respectivamente. \n",
    "\n",
    "**2.11)** Escreva um programa que colete informações cadastrais de um aluno: nome, idade, data de nascimento, curso e período. Imprima estas informações da seguinte maneira:\n",
    "\n",
    "```\n",
    "Nome do Aluno: João da Silva\n",
    "Idade: 22 anos\n",
    "Data de Nascimento: 13/04/96\n",
    "Curso: Jogos Digitais\n",
    "Período: 1\n",
    "```\n",
    "\n",
    "**Dica: podemos utilizar `\\n` para criar uma quebra de linha. Pesquisem como usar.**\n",
    "\n",
    "**2.12)** Escreva um programa que leia o nome e nota de 5 alunos. Deve ser impresso o nome e a nota de cada aluno juntamente com a média das notas. Imprima tais informações da seguinte maneira:\n",
    "\n",
    "```\n",
    "Nota do aluno João da Silva: 7.5\n",
    "Nota do aluno Maria dos Santos: 8.0\n",
    "Nota do aluno Eduardo Santana: 6.0\n",
    "Nota do aluno Manoel Lima: 7.0\n",
    "Nota do aluno Aline Silva: 9.0\n",
    "----\n",
    "Média da Turma: 7.5\n",
    "```"
   ]
  },
  {
   "cell_type": "markdown",
   "metadata": {},
   "source": [
    "# 3. Condicionais\n",
    "\n",
    "**3.1)** Escreva um algoritmo que leia um número e determine se ele é par ou ímpar.\n",
    "\n",
    "**3.2)** Escreva um algoritmo que leia os números A e B e determine se A é divisível por B.\n",
    "\n",
    "**3.3)** Escreva um algoritmo que calcule a média de uma disciplina, imprima a média do aluno e a informação se ele foi aprovado ou reprovado. A média é calculada pela média ponderada de três notas com pesos 1, 2 e 3. O aluno é aprovado se obter média maior que 6.\n",
    "\n",
    "**3.4)** Escreva um algoritmo que leia a média de um aluno e a frequência (em %) na disciplina e imprima se o aluno foi aprovado ou reprovado. O aluno é aprovado se obter média maior que 6 e frequência maior que 75%. Se o aluno obter média menor que 6 ou frequência menor que 75% ele é reprovado. O aluno que obter média maior que 7 é aprovado independente da frequência.\n",
    "\n",
    "**3.5)** Escreva um algoritmo que leia três números. Determine o maior e o menor entre eles.\n",
    "\n",
    "**3.6)** Escreva um algoritmo que leia quatro números e escreva estes números em ordem crescente.\n",
    "\n"
   ]
  },
  {
   "cell_type": "markdown",
   "metadata": {},
   "source": [
    "# 4. Repetição\n",
    "\n",
    "**4.1)** Escreva um programa que imprima os números de 50 até 200. Utilize estrutura de repetição para resolver.\n",
    "\n",
    "**4.2)** Escreva um programa que imprima uma contagem regressiva de 10 até 0. \n",
    "\n",
    "**4.3)** Escreva um algortimo que simule uma calculadora. O usuário deve entrar com dois números inteiros e as opções '\\+', '\\-', '\\*' e '/'. A depender da opção escolhida pelo usuário, o algoritmo deve calcular a soma, a subtração, a multiplicação ou a divisão. Imprima o valor final da operação de acordo com a operação selecionada. No caso da divisão, o algoritmo deve prever o caso da divisão por zero. Ao final de cada operação realizada deve-se perguntar ao usuário se o mesmo deseja realizar outra operação. Se a resposta for **Sim** continua o programa do início. Se a resposta for **Não** encerra o programa. \n",
    "\n",
    "**4.4)** Escreva um algoritmo que simule um guia interativo de TV. O usuário deve entrar com o número do canal e o código do programa. Imprima o nome do canal e o nome do programa que o usuário está assistindo de acordo com a tabela a seguir:\n",
    "\n",
    "| Número do Canal | Nome do Canal | Código do Programa | Nome do Programa |\n",
    "| --- | --- | --- | --- |\n",
    "| 1 | Fox | 1 | The Walking Dead | \n",
    "| 2 | HBO | 1 | Game of Thrones | \n",
    "| 4 | Globo | 1 | Altas Horas |\n",
    "| 4 | Globo | 2 | Jornal Nacional |\n",
    "| 8 | Band | 1 | MasterChef | \n",
    "\n",
    "O usuário sai do guia de programação se digitar -1. Caso o usuário digitar algum número errado, deve-se exibir uma mensagem informando o erro e pedindo para digitar um novo canal e programa. \n",
    "\n",
    "**4.5)** Escreva um programa que leia um número e verifique se é ou não um número primo. Para fazer essa verificação, calcule o resto da divisão do número 2 e depois por todos números ímpares até o número lido. Se o resto dessas divisões for igual a zero, o número não é primo. Observe que 0 e 1 não são primos e que 2 é o único número primo que é par. \n",
    "\n",
    "**4.6)** Escreva um algoritmo que leia N números e ao final da leitura imprima o maior e o menor deles. \n",
    "\n",
    "**4.7)** Escreva um programa que verifique se um número é palíndromo. Um número é palíndromo se continua o mesmo caso seus dígitos sejam invertidos. Exemplos: 454, 10501 são números palíndromos. Observe que o número não muda se lermos do final para o início. \n",
    "\n",
    "**4.6)** Construa um programa que permite ler a nota de vários alunos de várias turmas. Inicialmente o programa deve pedir a quantidade de turmas. Para cada turma, deve-se perguntar a quantidade de alunos daquela turma. Após a leitura da quantidade de alunos, o programa deve pedir a nota de cada aluno da turma corrente. Ao final, deve-se imprimir a média de cada turma e a média final de todas as turmas. "
   ]
  }
 ],
 "metadata": {
  "kernelspec": {
   "display_name": "Python 3",
   "language": "python",
   "name": "python3"
  },
  "language_info": {
   "codemirror_mode": {
    "name": "ipython",
    "version": 3
   },
   "file_extension": ".py",
   "mimetype": "text/x-python",
   "name": "python",
   "nbconvert_exporter": "python",
   "pygments_lexer": "ipython3",
   "version": "3.6.0"
  }
 },
 "nbformat": 4,
 "nbformat_minor": 2
}
