{
 "cells": [
  {
   "cell_type": "markdown",
   "metadata": {},
   "source": [
    "# Resolução da Prova 1\n",
    "\n",
    "O notebook a seguir mostra as repostas das provas aplicadas na turmas da disciplina de \"Fundamentos de Programação em Python\". Foram aplicadas duas provas distintas em duas turmas. A seguir é descrita a resolução para as duas turmas. "
   ]
  },
  {
   "cell_type": "markdown",
   "metadata": {},
   "source": [
    "# Turma 01"
   ]
  },
  {
   "cell_type": "markdown",
   "metadata": {},
   "source": [
    "## Questão 01: \n",
    "\n",
    "Escreva um algoritmo que leia o nome e o ano que uma pessoa nasceu. Em seguida imprima a mensagem: \"Você possui X anos\", onde X é quantos anos a pessoa tem. As informações de nome e idade devem ser lidas a partir do teclado. Considere como ano atual 2018. Utilize apenas o ano de nascimento para determinar a idade, desconsidere qualquer variação por conta dos meses. "
   ]
  },
  {
   "cell_type": "code",
   "execution_count": 1,
   "metadata": {},
   "outputs": [
    {
     "name": "stdout",
     "output_type": "stream",
     "text": [
      "Digite o nome da pessoa: Adolfo\n",
      "Digite o ano de nascimento: 1984\n",
      "Você possui 34 anos\n"
     ]
    }
   ],
   "source": [
    "nome_da_pessoa = input(\"Digite o nome da pessoa: \")\n",
    "ano_de_nascimento = int(input(\"Digite o ano de nascimento: \"))\n",
    "\n",
    "idade_da_pessoa = 2018 - ano_de_nascimento\n",
    "\n",
    "print(\"Você possui %i anos\"% idade_da_pessoa)"
   ]
  },
  {
   "attachments": {},
   "cell_type": "markdown",
   "metadata": {},
   "source": [
    "## Questão 02:\n",
    "\n",
    "Em uma lanchonete são vendidos 4 tipos de sanduíches: N1, N2, N3 e N4. Você foi contratado para criar um programa que permita calcular algumas informações de arrecadação ao final do dia. O sistema deve funcionar da seguinte maneira: deve-se ler a quantidade de sanduíches vendidos de cada tipo e imprimir quanto foi arrecado em R\\$ de cada tipo e do total de sanduíches vendidos. Por fim, imprima a porcentagem de sanduíches vendidos de cada tipo em relação ao total. Para resolver o problema, considere que o sanduíche N1 é comercializado por R\\$ 5,00, o N2 por R\\$ 6,50, o N3 por R\\$ 4,00 e o N4 por R\\$8,50."
   ]
  },
  {
   "cell_type": "code",
   "execution_count": 7,
   "metadata": {},
   "outputs": [
    {
     "name": "stdout",
     "output_type": "stream",
     "text": [
      "Digite a quantidade de sanduíches 1: 1\n",
      "Digite a quantidade de sanduíches 2: 2\n",
      "Digite a quantidade de sanduíches 3: 3\n",
      "Digite a quantidade de sanduíches 4: 4\n",
      "Arrecação N1: R$ 5.00\n",
      "Arrecação N2: R$ 13.00\n",
      "Arrecação N3: R$ 12.00\n",
      "Arrecação N4: R$ 34.00\n",
      "Foram vendidos 10 sanduíches. Arrecadando 64.00\n",
      "% de N1 10.00\n",
      "% de N2 20.00\n",
      "% de N3 30.00\n",
      "% de N4 40.00\n"
     ]
    }
   ],
   "source": [
    "N1 = int(input(\"Digite a quantidade de sanduíches 1: \"))\n",
    "N2 = int(input(\"Digite a quantidade de sanduíches 2: \"))\n",
    "N3 = int(input(\"Digite a quantidade de sanduíches 3: \"))\n",
    "N4 = int(input(\"Digite a quantidade de sanduíches 4: \"))\n",
    "\n",
    "arrecadacao_n1 = N1 * 5.0\n",
    "arrecadacao_n2 = N2 * 6.5\n",
    "arrecadacao_n3 = N3 * 4.0\n",
    "arrecadacao_n4 = N4 * 8.5\n",
    "\n",
    "print(\"Arrecação N1: R$ %.2f\" % arrecadacao_n1)\n",
    "print(\"Arrecação N2: R$ %.2f\" % arrecadacao_n2)\n",
    "print(\"Arrecação N3: R$ %.2f\" % arrecadacao_n3)\n",
    "print(\"Arrecação N4: R$ %.2f\" % arrecadacao_n4)\n",
    "\n",
    "total_vendidos = N1 + N2 + N3 + N4\n",
    "total_arrecadado = arrecadacao_n1 + arrecadacao_n2 + arrecadacao_n3 + arrecadacao_n4\n",
    "\n",
    "print(\"Foram vendidos %i sanduíches. Arrecadando %.2f\" % (total_vendidos, total_arrecadado))\n",
    "\n",
    "print(\"%% de N1 %.2f\" % ((N1/total_vendidos)*100))\n",
    "print(\"%% de N2 %.2f\" % ((N2/total_vendidos)*100))\n",
    "print(\"%% de N3 %.2f\" % ((N3/total_vendidos)*100))\n",
    "print(\"%% de N4 %.2f\" % ((N4/total_vendidos)*100))"
   ]
  },
  {
   "attachments": {},
   "cell_type": "markdown",
   "metadata": {},
   "source": [
    "## Questão 03\n",
    "\n",
    "Escreva um algoritmo que leia três números inteiros e imprima o resultado da seguinte equação: \n",
    "2 * X + 3 * Y + Z. Onde: X: o maior número dos 3 digitados. Y: o menor número dos 3 digitados. Z: o número que não é nem maior e nem menor."
   ]
  },
  {
   "cell_type": "code",
   "execution_count": 13,
   "metadata": {},
   "outputs": [
    {
     "name": "stdout",
     "output_type": "stream",
     "text": [
      "Digite o número 1: 5\n",
      "Digite o número 2: 9\n",
      "Digite o número 3: 1\n",
      "O resultado é: 26 \n"
     ]
    }
   ],
   "source": [
    "numero_1 = int(input(\"Digite o número 1: \"))\n",
    "\n",
    "maior = numero_1\n",
    "menor = numero_1\n",
    "meio = numero_1\n",
    "\n",
    "numero_2 = int(input(\"Digite o número 2: \"))\n",
    "\n",
    "if numero_2 > maior:\n",
    "    maior = numero_2\n",
    "elif numero_2 < menor:\n",
    "    menor = numero_2\n",
    "else:\n",
    "    meio = numero_2\n",
    "    \n",
    "numero_3 = int(input(\"Digite o número 3: \"))\n",
    "\n",
    "if numero_3 > maior:\n",
    "    maior = numero_3\n",
    "elif numero_3 < menor:\n",
    "    menor = numero_3\n",
    "else:\n",
    "    meio = numero_3\n",
    "    \n",
    "resultado = 2 * maior + 3 * menor + meio\n",
    "print(\"O resultado é: %i \" % resultado)"
   ]
  },
  {
   "attachments": {},
   "cell_type": "markdown",
   "metadata": {},
   "source": [
    "## Questão 04\n",
    "\n",
    "**a)** Em uma determinada loja, os equipamentos são organizados por setores de acordo com a tabela a baixo. O que identifica se um equipamento faz parte ou não de um setor é o código deste produto. A distribuição de códigos também está descrita na tabela a seguir. Escreva um programa que dado o código do produto determine em que setor o produto deve ser alocado. Observe que a numeração dos produtos começa a partir de 100. Deve-se imprimir uma mensagem apropriada caso o número digitado seja menor que 100. Antes de começar, o usuário deve informar quantos produtos serão lidos.\n",
    "\n",
    "**b)** Utilizando o programa da letra a, complete o programa para que ao final o mesmo imprima a quantidade de produtos por setor."
   ]
  },
  {
   "cell_type": "code",
   "execution_count": 17,
   "metadata": {},
   "outputs": [
    {
     "name": "stdout",
     "output_type": "stream",
     "text": [
      "Digite a quantidade de produtos: 10\n",
      "Digite o código: 101\n",
      "Eletrodoméstico\n",
      "Digite o código: 201\n",
      "Cama e Banho\n",
      "Digite o código: 301\n",
      "Cozinha\n",
      "Digite o código: 202\n",
      "Cama e Banho\n",
      "Digite o código: 301\n",
      "Cozinha\n",
      "Digite o código: 402\n",
      "Área de Serviço\n",
      "Digite o código: 601\n",
      "Utensílios Gerais\n",
      "Digite o código: 700\n",
      "Código inválido\n",
      "Digite o código: 211\n",
      "Cama e Banho\n",
      "Digite o código: 305\n",
      "Cozinha\n",
      "Quantidade por setor: \n",
      "Setor 1: 1\n",
      "Setor 2: 3\n",
      "Setor 3: 3\n",
      "Setor 4: 1\n",
      "Setor 5: 0\n",
      "Setor 6: 1\n"
     ]
    }
   ],
   "source": [
    "N = int(input(\"Digite a quantidade de produtos: \"))\n",
    "\n",
    "contador = 0\n",
    "\n",
    "contador_setor1 = 0\n",
    "contador_setor2 = 0\n",
    "contador_setor3 = 0\n",
    "contador_setor4 = 0\n",
    "contador_setor5 = 0\n",
    "contador_setor6 = 0\n",
    "\n",
    "while contador < N: \n",
    "    codigo_produto = int(input(\"Digite o código: \"))\n",
    "    \n",
    "    \n",
    "    if codigo_produto >= 100 and codigo_produto <= 199:\n",
    "        print(\"Eletrodoméstico\")\n",
    "        contador_setor1 = contador_setor1 + 1\n",
    "    elif codigo_produto >= 200 and codigo_produto <= 299:\n",
    "        print(\"Cama e Banho\")\n",
    "        contador_setor2 = contador_setor2 + 1\n",
    "    elif codigo_produto >= 300 and codigo_produto <= 349:\n",
    "        print(\"Cozinha\")\n",
    "        contador_setor3 = contador_setor3 + 1\n",
    "    elif codigo_produto >= 350 and codigo_produto <= 499:\n",
    "        print(\"Área de Serviço\")\n",
    "        contador_setor4 = contador_setor4 + 1\n",
    "    elif codigo_produto >= 500 and codigo_produto <= 599:\n",
    "        print(\"Móveis\")\n",
    "        contador_setor5 = contador_setor5 + 1\n",
    "    elif codigo_produto >= 600 and codigo_produto <= 699:\n",
    "        print(\"Utensílios Gerais\")\n",
    "        contador_setor6 = contador_setor6 + 1\n",
    "    else: \n",
    "        print(\"Código inválido\")\n",
    "    \n",
    "    contador = contador + 1\n",
    "    \n",
    "print(\"Quantidade por setor: \")\n",
    "print(\"Setor 1: %i\" % contador_setor1)\n",
    "print(\"Setor 2: %i\" % contador_setor2)\n",
    "print(\"Setor 3: %i\" % contador_setor3)\n",
    "print(\"Setor 4: %i\" % contador_setor4)\n",
    "print(\"Setor 5: %i\" % contador_setor5)\n",
    "print(\"Setor 6: %i\" % contador_setor6)"
   ]
  },
  {
   "cell_type": "markdown",
   "metadata": {},
   "source": [
    "# Turma 02"
   ]
  },
  {
   "cell_type": "markdown",
   "metadata": {},
   "source": [
    "## Questão 01:\n",
    "\n",
    "Escreva  um  algoritmo  que  leia  o  nome  e  a  idade  de  uma  pessoa.  Em  seguida  imprima  a  mensagem:  \"O  aluno  nasceu  no  ano  X\",  onde  X  é  o  ano  que  a  pessoa  nasceu.  As  informações  de  nome  e  idade  devem  ser  lidas  a  partir  do  teclado.  Considere  como  ano  atual  2018."
   ]
  },
  {
   "cell_type": "code",
   "execution_count": 1,
   "metadata": {},
   "outputs": [
    {
     "name": "stdout",
     "output_type": "stream",
     "text": [
      "Digite o nome da pessoa: Adolfo\n",
      "Digite a idade da pessoa: 34\n",
      "O aluno nasceu no ano 1984\n"
     ]
    }
   ],
   "source": [
    "nome = input(\"Digite o nome da pessoa: \")\n",
    "idade = int(input(\"Digite a idade da pessoa: \"))\n",
    "\n",
    "ano_de_nascimento = 2018 - idade\n",
    "\n",
    "print(\"O aluno nasceu no ano %i\" % ano_de_nascimento)"
   ]
  },
  {
   "cell_type": "markdown",
   "metadata": {},
   "source": [
    "## Questão 02:\n",
    "Em  uma  eleição para  representante  de  turma  concorreram  4  candidatos  (C1,  C2,  C3  e  C4).  Durante  a  apuração,  além  dos  votos  de  cada  candidato,  foram  apurados  os  votos  nulos  e  brancos.  Escreva  um  programa  que  leia  a  quantidade  dosvotos  válidos  de  cada  candidato,  os  votos  brancos  e  os  votos  nulos.  Ao  final  imprima  o  total  de  eleitores,  a  quantidade  total  de  votos  válidos,  o  percentual  de  votos  válidos  de  cada  candidato  e  o  percentual  de  votos  brancos  e  nulos."
   ]
  },
  {
   "cell_type": "code",
   "execution_count": 8,
   "metadata": {},
   "outputs": [
    {
     "name": "stdout",
     "output_type": "stream",
     "text": [
      "Digite os votos do candidato 1: 20\n",
      "Digite os votos do candidato 2: 30\n",
      "Digite os votos do candidato 3: 10\n",
      "Digite os votos do candidato 4: 40\n",
      "Digite os votos brancos: 25\n",
      "Digite os votos nulos: 10\n",
      "Votaram 135 eleitores.\n",
      "Total de votos válidos: 100\n",
      "Percentual de votos de C1: 14.81 %\n",
      "Percentual de votos de C2: 22.22 %\n",
      "Percentual de votos de C3: 7.41 %\n",
      "Percentual de votos de C4: 29.63 %\n",
      "Percentual de votos de brancos: 18.52 %\n",
      "Percentual de votos de nulos: 7.41 %\n"
     ]
    }
   ],
   "source": [
    "votos_c1 = int(input(\"Digite os votos do candidato 1: \"))\n",
    "votos_c2 = int(input(\"Digite os votos do candidato 2: \"))\n",
    "votos_c3 = int(input(\"Digite os votos do candidato 3: \"))\n",
    "votos_c4 = int(input(\"Digite os votos do candidato 4: \"))\n",
    "\n",
    "votos_brancos =  int(input(\"Digite os votos brancos: \"))\n",
    "votos_nulos = int(input(\"Digite os votos nulos: \"))\n",
    "\n",
    "total_de_validos = votos_c1 + votos_c2 + votos_c3 + votos_c4\n",
    "\n",
    "total_de_eleitores = total_de_validos + votos_brancos + votos_nulos\n",
    "    \n",
    "print(\"Votaram %i eleitores.\" % total_de_eleitores)\n",
    "print(\"Total de votos válidos: %i\" % total_de_validos)\n",
    "\n",
    "percentual_c1 = (votos_c1 / total_de_eleitores) * 100\n",
    "percentual_c2 = (votos_c2 / total_de_eleitores) * 100\n",
    "percentual_c3 = (votos_c3 / total_de_eleitores) * 100\n",
    "percentual_c4 = (votos_c4 / total_de_eleitores) * 100\n",
    "percentual_brancos = (votos_brancos / total_de_eleitores) * 100\n",
    "percentual_nulos = (votos_nulos / total_de_eleitores) * 100\n",
    "\n",
    "print(\"Percentual de votos de C1: %.2f %%\" % percentual_c1)\n",
    "print(\"Percentual de votos de C2: %.2f %%\" % percentual_c2)\n",
    "print(\"Percentual de votos de C3: %.2f %%\" % percentual_c3)\n",
    "print(\"Percentual de votos de C4: %.2f %%\" % percentual_c4)\n",
    "print(\"Percentual de votos de brancos: %.2f %%\" % percentual_brancos)\n",
    "print(\"Percentual de votos de nulos: %.2f %%\" % percentual_nulos)\n",
    "    \n"
   ]
  },
  {
   "cell_type": "markdown",
   "metadata": {},
   "source": [
    "## Questão 03:\n",
    "Escreva  um  algoritmo  que  leia  três  números  inteiros  e  imprima-os  em  ordem  decrescente."
   ]
  },
  {
   "cell_type": "code",
   "execution_count": 19,
   "metadata": {},
   "outputs": [
    {
     "name": "stdout",
     "output_type": "stream",
     "text": [
      "Digite o número 1: 2\n",
      "Digite o número 2: 3\n",
      "Digite o número 3: 1\n",
      "Números na ordem decrescente: 3 2 1\n"
     ]
    }
   ],
   "source": [
    "numero1 = int(input(\"Digite o número 1: \"))\n",
    "\n",
    "maior = numero1\n",
    "menor = numero1\n",
    "meio = numero1\n",
    "\n",
    "numero2 = int(input(\"Digite o número 2: \"))\n",
    "\n",
    "if numero2 > maior:\n",
    "    meio = maior\n",
    "    maior = numero2\n",
    "else:\n",
    "    meio = menor\n",
    "    menor = numero2\n",
    "    \n",
    "numero3 = int(input(\"Digite o número 3: \"))\n",
    "\n",
    "if numero3 > maior:\n",
    "    meio = maior\n",
    "    maior = numero3\n",
    "else:\n",
    "    meio = menor\n",
    "    menor = numero3\n",
    "    \n",
    "\n",
    "    \n",
    "print(\"Números na ordem decrescente: %i %i %i\" % (maior, meio, menor))"
   ]
  },
  {
   "attachments": {},
   "cell_type": "markdown",
   "metadata": {},
   "source": [
    "## Questão 04:\n",
    "\n",
    "**a)** Em  uma  competição,  os  atletas  são  organizados  em  categorias  de  acordo  com  a  tabela  abaixo.  Escreva  um  algoritmo  que  leia  a  idade  de  um  competidor  e  imprima sua  categoria.  Observe  que  só  são  aceitos  atletas  maiores  de  10  anos.  Exiba  uma  mensagem  para  este  caso.  Antes  de  começar,  o  usuário  deve  informar  quantos  atletas  serão  lidos.\n",
    "\n",
    "**b)** Utilizando o programa da letra a, complete o programa para que ao final o mesmo imprima a quantidade de atletas por categoria."
   ]
  },
  {
   "cell_type": "code",
   "execution_count": 21,
   "metadata": {},
   "outputs": [
    {
     "name": "stdout",
     "output_type": "stream",
     "text": [
      "Digite a quantidade de atletas10\n",
      "Digite a idade do atleta: 10\n",
      "Categoria A\n",
      "Digite a idade do atleta: 15\n",
      "Categoria A\n",
      "Digite a idade do atleta: 25\n",
      "Categoria C\n",
      "Digite a idade do atleta: 21\n",
      "Categoria C\n",
      "Digite a idade do atleta: 10\n",
      "Categoria A\n",
      "Digite a idade do atleta: 16\n",
      "Categoria B\n",
      "Digite a idade do atleta: 28\n",
      "Categoria C\n",
      "Digite a idade do atleta: 18\n",
      "Categoria B\n",
      "Digite a idade do atleta: 35\n",
      "Categoria D\n",
      "Digite a idade do atleta: 66\n",
      "Categoria G\n",
      "Total por categoria: \n",
      "Categoria A: 3\n",
      "Categoria B: 2\n",
      "Categoria C: 3\n",
      "Categoria D: 1\n",
      "Categoria E: 0\n",
      "Categoria F: 0\n",
      "Categoria G: 1\n"
     ]
    }
   ],
   "source": [
    "numero_de_atletas = int(input(\"Digite a quantidade de atletas\"))\n",
    "\n",
    "contador = 0\n",
    "\n",
    "cont_a = 0\n",
    "cont_b = 0\n",
    "cont_c = 0\n",
    "cont_d = 0\n",
    "cont_e = 0\n",
    "cont_f = 0\n",
    "cont_g = 0\n",
    "\n",
    "while contador < numero_de_atletas:\n",
    "    \n",
    "    idade_atleta = int(input(\"Digite a idade do atleta: \"))\n",
    "    \n",
    "    if idade_atleta >= 0 and idade_atleta <= 9:\n",
    "        print(\"Idade não permitida\")\n",
    "    elif idade_atleta >= 10 and idade_atleta <= 15:\n",
    "        print(\"Categoria A\")\n",
    "        cont_a += 1\n",
    "    elif idade_atleta >= 16 and idade_atleta <= 20:\n",
    "        print(\"Categoria B\")\n",
    "        cont_b += 1\n",
    "    elif idade_atleta >= 21 and idade_atleta <= 30:\n",
    "        print(\"Categoria C\")\n",
    "        cont_c += 1\n",
    "    elif idade_atleta >= 31 and idade_atleta <= 40:\n",
    "        print(\"Categoria D\")\n",
    "        cont_d += 1\n",
    "    elif idade_atleta >= 41 and idade_atleta <= 50:\n",
    "        print(\"Categoria E\")   \n",
    "        cont_e += 1\n",
    "    elif idade_atleta >= 51 and idade_atleta <= 60:\n",
    "        print(\"Categoria F\")\n",
    "        cont_f += 1\n",
    "    elif idade_atleta > 60:\n",
    "        print(\"Categoria G\")\n",
    "        cont_g += 1\n",
    "    else:\n",
    "        print(\"Idade inválida.\")\n",
    "    \n",
    "    contador += 1\n",
    "    \n",
    "print(\"Total por categoria: \")\n",
    "print(\"Categoria A: %i\" % cont_a)\n",
    "print(\"Categoria B: %i\" % cont_b)\n",
    "print(\"Categoria C: %i\" % cont_c)\n",
    "print(\"Categoria D: %i\" % cont_d)\n",
    "print(\"Categoria E: %i\" % cont_e)\n",
    "print(\"Categoria F: %i\" % cont_f)\n",
    "print(\"Categoria G: %i\" % cont_g)"
   ]
  },
  {
   "cell_type": "code",
   "execution_count": null,
   "metadata": {},
   "outputs": [],
   "source": []
  },
  {
   "cell_type": "code",
   "execution_count": null,
   "metadata": {},
   "outputs": [],
   "source": []
  },
  {
   "cell_type": "code",
   "execution_count": null,
   "metadata": {},
   "outputs": [],
   "source": []
  },
  {
   "cell_type": "code",
   "execution_count": null,
   "metadata": {},
   "outputs": [],
   "source": []
  },
  {
   "cell_type": "code",
   "execution_count": null,
   "metadata": {},
   "outputs": [],
   "source": []
  },
  {
   "cell_type": "code",
   "execution_count": null,
   "metadata": {},
   "outputs": [],
   "source": []
  },
  {
   "cell_type": "code",
   "execution_count": null,
   "metadata": {},
   "outputs": [],
   "source": []
  },
  {
   "cell_type": "code",
   "execution_count": null,
   "metadata": {},
   "outputs": [],
   "source": []
  },
  {
   "cell_type": "code",
   "execution_count": null,
   "metadata": {},
   "outputs": [],
   "source": []
  },
  {
   "cell_type": "code",
   "execution_count": null,
   "metadata": {},
   "outputs": [],
   "source": []
  },
  {
   "cell_type": "code",
   "execution_count": null,
   "metadata": {},
   "outputs": [],
   "source": []
  },
  {
   "cell_type": "code",
   "execution_count": null,
   "metadata": {},
   "outputs": [],
   "source": []
  },
  {
   "cell_type": "code",
   "execution_count": null,
   "metadata": {},
   "outputs": [],
   "source": []
  }
 ],
 "metadata": {
  "kernelspec": {
   "display_name": "Python 3",
   "language": "python",
   "name": "python3"
  },
  "language_info": {
   "codemirror_mode": {
    "name": "ipython",
    "version": 3
   },
   "file_extension": ".py",
   "mimetype": "text/x-python",
   "name": "python",
   "nbconvert_exporter": "python",
   "pygments_lexer": "ipython3",
   "version": "3.6.0"
  }
 },
 "nbformat": 4,
 "nbformat_minor": 2
}
