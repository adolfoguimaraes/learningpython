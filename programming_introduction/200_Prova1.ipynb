{
 "cells": [
  {
   "cell_type": "markdown",
   "metadata": {},
   "source": [
    "# Resolução da Prova 1\n",
    "\n",
    "O notebook a seguir mostra as repostas das provas aplicadas na turmas da disciplina de \"Fundamentos de Programação em Python\". Foram aplicadas duas provas distintas em duas turmas. A seguir é descrita a resolução para as duas turmas. "
   ]
  },
  {
   "cell_type": "markdown",
   "metadata": {},
   "source": [
    "# Turma 01"
   ]
  },
  {
   "cell_type": "markdown",
   "metadata": {},
   "source": [
    "# Turma 02"
   ]
  },
  {
   "cell_type": "markdown",
   "metadata": {},
   "source": [
    "## Questão 01:\n",
    "\n",
    "Escreva  um  algoritmo  que  leia  o  nome  e  a  idade  de  uma  pessoa.  Em  seguida  imprima  a  mensagem:  \"O  aluno  nasceu  no  ano  X\",  onde  X  é  o  ano  que  a  pessoa  nasceu.  As  informações  de  nome  e  idade  devem  ser  lidas  a  partir  do  teclado.  Considere  como  ano  atual  2018."
   ]
  },
  {
   "cell_type": "code",
   "execution_count": 1,
   "metadata": {},
   "outputs": [
    {
     "name": "stdout",
     "output_type": "stream",
     "text": [
      "Digite o nome da pessoa: Adolfo\n",
      "Digite a idade da pessoa: 34\n",
      "O aluno nasceu no ano 1984\n"
     ]
    }
   ],
   "source": [
    "nome = input(\"Digite o nome da pessoa: \")\n",
    "idade = int(input(\"Digite a idade da pessoa: \"))\n",
    "\n",
    "ano_de_nascimento = 2018 - idade\n",
    "\n",
    "print(\"O aluno nasceu no ano %i\" % ano_de_nascimento)"
   ]
  },
  {
   "cell_type": "markdown",
   "metadata": {},
   "source": [
    "## Questão 02:\n",
    "Em  uma  eleição para  representante  de  turma  concorreram  4  candidatos  (C1,  C2,  C3  e  C4).  Durante  a  apuração,  além  dos  votos  de  cada  candidato,  foram  apurados  os  votos  nulos  e  brancos.  Escreva  um  programa  que  leia  a  quantidade  dosvotos  válidos  de  cada  candidato,  os  votos  brancos  e  os  votos  nulos.  Ao  final  imprima  o  total  de  eleitores,  a  quantidade  total  de  votos  válidos,  o  percentual  de  votos  válidos  de  cada  candidato  e  o  percentual  de  votos  brancos  e  nulos."
   ]
  },
  {
   "cell_type": "code",
   "execution_count": 8,
   "metadata": {},
   "outputs": [
    {
     "name": "stdout",
     "output_type": "stream",
     "text": [
      "Digite os votos do candidato 1: 20\n",
      "Digite os votos do candidato 2: 30\n",
      "Digite os votos do candidato 3: 10\n",
      "Digite os votos do candidato 4: 40\n",
      "Digite os votos brancos: 25\n",
      "Digite os votos nulos: 10\n",
      "Votaram 135 eleitores.\n",
      "Total de votos válidos: 100\n",
      "Percentual de votos de C1: 14.81 %\n",
      "Percentual de votos de C2: 22.22 %\n",
      "Percentual de votos de C3: 7.41 %\n",
      "Percentual de votos de C4: 29.63 %\n",
      "Percentual de votos de brancos: 18.52 %\n",
      "Percentual de votos de nulos: 7.41 %\n"
     ]
    }
   ],
   "source": [
    "votos_c1 = int(input(\"Digite os votos do candidato 1: \"))\n",
    "votos_c2 = int(input(\"Digite os votos do candidato 2: \"))\n",
    "votos_c3 = int(input(\"Digite os votos do candidato 3: \"))\n",
    "votos_c4 = int(input(\"Digite os votos do candidato 4: \"))\n",
    "\n",
    "votos_brancos =  int(input(\"Digite os votos brancos: \"))\n",
    "votos_nulos = int(input(\"Digite os votos nulos: \"))\n",
    "\n",
    "total_de_validos = votos_c1 + votos_c2 + votos_c3 + votos_c4\n",
    "\n",
    "total_de_eleitores = total_de_validos + votos_brancos + votos_nulos\n",
    "    \n",
    "print(\"Votaram %i eleitores.\" % total_de_eleitores)\n",
    "print(\"Total de votos válidos: %i\" % total_de_validos)\n",
    "\n",
    "percentual_c1 = (votos_c1 / total_de_eleitores) * 100\n",
    "percentual_c2 = (votos_c2 / total_de_eleitores) * 100\n",
    "percentual_c3 = (votos_c3 / total_de_eleitores) * 100\n",
    "percentual_c4 = (votos_c4 / total_de_eleitores) * 100\n",
    "percentual_brancos = (votos_brancos / total_de_eleitores) * 100\n",
    "percentual_nulos = (votos_nulos / total_de_eleitores) * 100\n",
    "\n",
    "print(\"Percentual de votos de C1: %.2f %%\" % percentual_c1)\n",
    "print(\"Percentual de votos de C2: %.2f %%\" % percentual_c2)\n",
    "print(\"Percentual de votos de C3: %.2f %%\" % percentual_c3)\n",
    "print(\"Percentual de votos de C4: %.2f %%\" % percentual_c4)\n",
    "print(\"Percentual de votos de brancos: %.2f %%\" % percentual_brancos)\n",
    "print(\"Percentual de votos de nulos: %.2f %%\" % percentual_nulos)\n",
    "    \n"
   ]
  },
  {
   "cell_type": "markdown",
   "metadata": {},
   "source": [
    "## Questão 03:\n",
    "Escreva  um  algoritmo  que  leia  três  números  inteiros  e  imprima-os  em  ordem  decrescente."
   ]
  },
  {
   "cell_type": "code",
   "execution_count": 19,
   "metadata": {},
   "outputs": [
    {
     "name": "stdout",
     "output_type": "stream",
     "text": [
      "Digite o número 1: 2\n",
      "Digite o número 2: 3\n",
      "Digite o número 3: 1\n",
      "Números na ordem decrescente: 3 2 1\n"
     ]
    }
   ],
   "source": [
    "numero1 = int(input(\"Digite o número 1: \"))\n",
    "\n",
    "maior = numero1\n",
    "menor = numero1\n",
    "meio = numero1\n",
    "\n",
    "numero2 = int(input(\"Digite o número 2: \"))\n",
    "\n",
    "if numero2 > maior:\n",
    "    meio = maior\n",
    "    maior = numero2\n",
    "else:\n",
    "    meio = menor\n",
    "    menor = numero2\n",
    "    \n",
    "numero3 = int(input(\"Digite o número 3: \"))\n",
    "\n",
    "if numero3 > maior:\n",
    "    meio = maior\n",
    "    maior = numero3\n",
    "else:\n",
    "    meio = menor\n",
    "    menor = numero3\n",
    "    \n",
    "\n",
    "    \n",
    "print(\"Números na ordem decrescente: %i %i %i\" % (maior, meio, menor))"
   ]
  },
  {
   "cell_type": "markdown",
   "metadata": {},
   "source": [
    "## Questão 04:\n",
    "\n",
    "**a)** Em  uma  competição,  os  atletas  são  organizados  em  categorias  de  acordo  com  a  tabela  abaixo.  Escreva  um  algoritmo  que  leia  a  idade  de  um  competidor  e  imprima sua  categoria.  Observe  que  só  são  aceitos  atletas  maiores  de  10  anos.  Exiba  uma  mensagem  para  este  caso.  Antes  de  começar,  o  usuário  deve  informar  quantos  atletas  serão  lidos."
   ]
  },
  {
   "cell_type": "code",
   "execution_count": 21,
   "metadata": {},
   "outputs": [
    {
     "name": "stdout",
     "output_type": "stream",
     "text": [
      "Digite a quantidade de atletas10\n",
      "Digite a idade do atleta: 10\n",
      "Categoria A\n",
      "Digite a idade do atleta: 15\n",
      "Categoria A\n",
      "Digite a idade do atleta: 25\n",
      "Categoria C\n",
      "Digite a idade do atleta: 21\n",
      "Categoria C\n",
      "Digite a idade do atleta: 10\n",
      "Categoria A\n",
      "Digite a idade do atleta: 16\n",
      "Categoria B\n",
      "Digite a idade do atleta: 28\n",
      "Categoria C\n",
      "Digite a idade do atleta: 18\n",
      "Categoria B\n",
      "Digite a idade do atleta: 35\n",
      "Categoria D\n",
      "Digite a idade do atleta: 66\n",
      "Categoria G\n",
      "Total por categoria: \n",
      "Categoria A: 3\n",
      "Categoria B: 2\n",
      "Categoria C: 3\n",
      "Categoria D: 1\n",
      "Categoria E: 0\n",
      "Categoria F: 0\n",
      "Categoria G: 1\n"
     ]
    }
   ],
   "source": [
    "numero_de_atletas = int(input(\"Digite a quantidade de atletas\"))\n",
    "\n",
    "contador = 0\n",
    "\n",
    "cont_a = 0\n",
    "cont_b = 0\n",
    "cont_c = 0\n",
    "cont_d = 0\n",
    "cont_e = 0\n",
    "cont_f = 0\n",
    "cont_g = 0\n",
    "\n",
    "while contador < numero_de_atletas:\n",
    "    \n",
    "    idade_atleta = int(input(\"Digite a idade do atleta: \"))\n",
    "    \n",
    "    if idade_atleta >= 0 and idade_atleta <= 9:\n",
    "        print(\"Idade não permitida\")\n",
    "    elif idade_atleta >= 10 and idade_atleta <= 15:\n",
    "        print(\"Categoria A\")\n",
    "        cont_a += 1\n",
    "    elif idade_atleta >= 16 and idade_atleta <= 20:\n",
    "        print(\"Categoria B\")\n",
    "        cont_b += 1\n",
    "    elif idade_atleta >= 21 and idade_atleta <= 30:\n",
    "        print(\"Categoria C\")\n",
    "        cont_c += 1\n",
    "    elif idade_atleta >= 31 and idade_atleta <= 40:\n",
    "        print(\"Categoria D\")\n",
    "        cont_d += 1\n",
    "    elif idade_atleta >= 41 and idade_atleta <= 50:\n",
    "        print(\"Categoria E\")   \n",
    "        cont_e += 1\n",
    "    elif idade_atleta >= 51 and idade_atleta <= 60:\n",
    "        print(\"Categoria F\")\n",
    "        cont_f += 1\n",
    "    elif idade_atleta > 60:\n",
    "        print(\"Categoria G\")\n",
    "        cont_g += 1\n",
    "    else:\n",
    "        print(\"Idade inválida.\")\n",
    "    \n",
    "    contador += 1\n",
    "    \n",
    "print(\"Total por categoria: \")\n",
    "print(\"Categoria A: %i\" % cont_a)\n",
    "print(\"Categoria B: %i\" % cont_b)\n",
    "print(\"Categoria C: %i\" % cont_c)\n",
    "print(\"Categoria D: %i\" % cont_d)\n",
    "print(\"Categoria E: %i\" % cont_e)\n",
    "print(\"Categoria F: %i\" % cont_f)\n",
    "print(\"Categoria G: %i\" % cont_g)"
   ]
  },
  {
   "cell_type": "code",
   "execution_count": null,
   "metadata": {},
   "outputs": [],
   "source": []
  },
  {
   "cell_type": "code",
   "execution_count": null,
   "metadata": {},
   "outputs": [],
   "source": []
  },
  {
   "cell_type": "code",
   "execution_count": null,
   "metadata": {},
   "outputs": [],
   "source": []
  },
  {
   "cell_type": "code",
   "execution_count": null,
   "metadata": {},
   "outputs": [],
   "source": []
  },
  {
   "cell_type": "code",
   "execution_count": null,
   "metadata": {},
   "outputs": [],
   "source": []
  },
  {
   "cell_type": "code",
   "execution_count": null,
   "metadata": {},
   "outputs": [],
   "source": []
  },
  {
   "cell_type": "code",
   "execution_count": null,
   "metadata": {},
   "outputs": [],
   "source": []
  },
  {
   "cell_type": "code",
   "execution_count": null,
   "metadata": {},
   "outputs": [],
   "source": []
  },
  {
   "cell_type": "code",
   "execution_count": null,
   "metadata": {},
   "outputs": [],
   "source": []
  },
  {
   "cell_type": "code",
   "execution_count": null,
   "metadata": {},
   "outputs": [],
   "source": []
  },
  {
   "cell_type": "code",
   "execution_count": null,
   "metadata": {},
   "outputs": [],
   "source": []
  },
  {
   "cell_type": "code",
   "execution_count": null,
   "metadata": {},
   "outputs": [],
   "source": []
  },
  {
   "cell_type": "code",
   "execution_count": null,
   "metadata": {},
   "outputs": [],
   "source": []
  }
 ],
 "metadata": {
  "kernelspec": {
   "display_name": "Python 3.6",
   "language": "python",
   "name": "python36"
  },
  "language_info": {
   "codemirror_mode": {
    "name": "ipython",
    "version": 3
   },
   "file_extension": ".py",
   "mimetype": "text/x-python",
   "name": "python",
   "nbconvert_exporter": "python",
   "pygments_lexer": "ipython3",
   "version": "3.6.3"
  }
 },
 "nbformat": 4,
 "nbformat_minor": 2
}
