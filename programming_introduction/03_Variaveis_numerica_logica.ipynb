{
 "cells": [
  {
   "cell_type": "code",
   "execution_count": 32,
   "metadata": {},
   "outputs": [],
   "source": [
    "# Desconsidere estas linhas para o estudo da disciplina\n",
    "\n",
    "from IPython.display import Image"
   ]
  },
  {
   "cell_type": "markdown",
   "metadata": {},
   "source": [
    "# Variáveis \n",
    "\n",
    "Na aula passada, vocês foram apresentados ao conceito de variável. Informalmente, definimos uma variável como um espaço na memória que é acessado pelo computador para acessar informação. No entanto, existe muito mais aspectos relacionados às variáveis que precisamos estudar. Vamos começar!!!"
   ]
  },
  {
   "cell_type": "markdown",
   "metadata": {},
   "source": [
    "## Usando expressões aritméticas\n",
    "\n",
    "No exemplo da aula passada, utilizamos a expressão `total = nota1 + nota2` para armazenar os valores resultante da expressão aritmética de soma da `nota1` com a `nota2`. A soma não é a única operação que podemos fazer em Python, vamos treinar outras expressões. \n",
    "\n",
    "#### Operações \n",
    "\n",
    "| Sinal | Operação   |\n",
    "|------|------|\n",
    "|+|Soma|\n",
    "|-|Subtração|\n",
    "|\\*|Multiplicação|\n",
    "| /|Divisão|\n",
    "| %|Resto da divisão inteira|\n",
    "| \\*\\*|Potência|\n",
    "\n",
    "Assim como na matemática, o python respeita a precedência dos operadores quando vai resolver as expressões aritméticas. Vamos relembrar a ordem: \n",
    "\n",
    "1. Exponenciação ou potenciação\n",
    "2. Multiplicação e Divisão\n",
    "3. Adição e Subtração\n",
    "\n",
    "Sabendo disso, vamos escrever em Python cada uma das expressões aritméticas a seguir. Os valores resultados das expressões serão armazenados na variável `resultado`.\n"
   ]
  },
  {
   "cell_type": "markdown",
   "metadata": {},
   "source": [
    "1) $resultado = 10 + 20$"
   ]
  },
  {
   "cell_type": "code",
   "execution_count": 2,
   "metadata": {},
   "outputs": [
    {
     "name": "stdout",
     "output_type": "stream",
     "text": [
      "30\n"
     ]
    }
   ],
   "source": [
    "resultado = 10 + 20\n",
    "print(resultado)"
   ]
  },
  {
   "cell_type": "markdown",
   "metadata": {},
   "source": [
    "2) $resultado = 30 - 10$"
   ]
  },
  {
   "cell_type": "code",
   "execution_count": 3,
   "metadata": {},
   "outputs": [
    {
     "name": "stdout",
     "output_type": "stream",
     "text": [
      "20\n"
     ]
    }
   ],
   "source": [
    "resultado = 30 - 10\n",
    "print(resultado)"
   ]
  },
  {
   "cell_type": "markdown",
   "metadata": {},
   "source": [
    "3) $resultado = 40 - 65$"
   ]
  },
  {
   "cell_type": "code",
   "execution_count": 4,
   "metadata": {},
   "outputs": [
    {
     "name": "stdout",
     "output_type": "stream",
     "text": [
      "-25\n"
     ]
    }
   ],
   "source": [
    "resultado = 40 - 65\n",
    "print(resultado)"
   ]
  },
  {
   "cell_type": "markdown",
   "metadata": {},
   "source": [
    "4) $resultado = 3 \\times 10$"
   ]
  },
  {
   "cell_type": "code",
   "execution_count": 5,
   "metadata": {},
   "outputs": [
    {
     "name": "stdout",
     "output_type": "stream",
     "text": [
      "30\n"
     ]
    }
   ],
   "source": [
    "resultado = 3 * 10 \n",
    "print(resultado)"
   ]
  },
  {
   "cell_type": "markdown",
   "metadata": {},
   "source": [
    "5) $resultado = \\frac{30}{5}$ e $resultado = \\frac{30}{4}$"
   ]
  },
  {
   "cell_type": "code",
   "execution_count": 7,
   "metadata": {},
   "outputs": [
    {
     "name": "stdout",
     "output_type": "stream",
     "text": [
      "6.0\n",
      "7.5\n"
     ]
    }
   ],
   "source": [
    "resultado = 30/5\n",
    "print(resultado)\n",
    "\n",
    "resultado = 30/4\n",
    "print(resultado)"
   ]
  },
  {
   "cell_type": "markdown",
   "metadata": {},
   "source": [
    "6) $resultado = \\frac{10}{0}$"
   ]
  },
  {
   "cell_type": "code",
   "execution_count": 8,
   "metadata": {},
   "outputs": [
    {
     "ename": "ZeroDivisionError",
     "evalue": "division by zero",
     "output_type": "error",
     "traceback": [
      "\u001b[0;31m---------------------------------------------------------------------------\u001b[0m",
      "\u001b[0;31mZeroDivisionError\u001b[0m                         Traceback (most recent call last)",
      "\u001b[0;32m<ipython-input-8-adae0452a45c>\u001b[0m in \u001b[0;36m<module>\u001b[0;34m()\u001b[0m\n\u001b[0;32m----> 1\u001b[0;31m \u001b[0mresultado\u001b[0m \u001b[0;34m=\u001b[0m \u001b[0;36m10\u001b[0m\u001b[0;34m/\u001b[0m\u001b[0;36m0\u001b[0m\u001b[0;34m\u001b[0m\u001b[0m\n\u001b[0m\u001b[1;32m      2\u001b[0m \u001b[0mprint\u001b[0m\u001b[0;34m(\u001b[0m\u001b[0mresultado\u001b[0m\u001b[0;34m)\u001b[0m\u001b[0;34m\u001b[0m\u001b[0m\n",
      "\u001b[0;31mZeroDivisionError\u001b[0m: division by zero"
     ]
    }
   ],
   "source": [
    "resultado = 10/0 \n",
    "print(resultado)"
   ]
  },
  {
   "cell_type": "markdown",
   "metadata": {},
   "source": [
    "### Atenção: Divisão por Zero\n",
    "\n",
    "Assim como na matemática, não é permitido o uso da divisão por zero. Caso isso aconteça, o **python** vai exibir uma mensagem de erro e seu programa não será executado. Muito cuidado para não cometer esse erro. "
   ]
  },
  {
   "cell_type": "markdown",
   "metadata": {},
   "source": [
    "Continuando ... "
   ]
  },
  {
   "cell_type": "markdown",
   "metadata": {},
   "source": [
    "7) $resultado = 1500 + \\left(\\frac{1500 \\times 5}{100}\\right)$"
   ]
  },
  {
   "cell_type": "code",
   "execution_count": 10,
   "metadata": {},
   "outputs": [
    {
     "name": "stdout",
     "output_type": "stream",
     "text": [
      "1575.0\n"
     ]
    }
   ],
   "source": [
    "resultado = 1500 + (1500 * 5 / 100)\n",
    "print(resultado)"
   ]
  },
  {
   "cell_type": "markdown",
   "metadata": {},
   "source": [
    "O uso de parênteses é permitido nas expressões. Assim como na matemática, eles podem forçar a precedência dos operadores. Vamos resolver as seguintes expressões. "
   ]
  },
  {
   "cell_type": "markdown",
   "metadata": {},
   "source": [
    "8) $resultado = 10 + 5 * 20$ e $resultado = (10 + 5) * 20$"
   ]
  },
  {
   "cell_type": "code",
   "execution_count": 16,
   "metadata": {},
   "outputs": [
    {
     "name": "stdout",
     "output_type": "stream",
     "text": [
      "110\n",
      "300\n"
     ]
    }
   ],
   "source": [
    "resultado = 10 + 5 * 20\n",
    "print(resultado)\n",
    "resultado = (10 + 5) * 20\n",
    "print(resultado)"
   ]
  },
  {
   "cell_type": "markdown",
   "metadata": {},
   "source": [
    "A primeira seguiu a precedência normal dos operadores: primeiro resolve-se a multiplicação e depois a soma. Na segunda expressão, os parêteses determinaram a precdência: primeiro o que estava dentro deles (a soma) e depois a multiplicação. É por isso que os resultados deram diferentes. "
   ]
  },
  {
   "cell_type": "markdown",
   "metadata": {},
   "source": [
    "O operador `%` permite calcular o resto da divisão inteira. Vamos aplicar bastante esse operador quando quisermos definir se um número é par ou ímpar. Veremos isso mais para frente.  \n",
    "\n",
    "9) O resto da divisão inteira entre 10 e 3."
   ]
  },
  {
   "cell_type": "code",
   "execution_count": 17,
   "metadata": {},
   "outputs": [
    {
     "name": "stdout",
     "output_type": "stream",
     "text": [
      "1\n"
     ]
    }
   ],
   "source": [
    "resultado = 10 % 3\n",
    "print(resultado)"
   ]
  },
  {
   "cell_type": "markdown",
   "metadata": {},
   "source": [
    "Para fechar, um pouco de exponeciação:"
   ]
  },
  {
   "cell_type": "markdown",
   "metadata": {},
   "source": [
    "10) $resultado = \\frac{(10 + 30)^2}{100}$"
   ]
  },
  {
   "cell_type": "code",
   "execution_count": 22,
   "metadata": {},
   "outputs": [
    {
     "name": "stdout",
     "output_type": "stream",
     "text": [
      "16.0\n"
     ]
    }
   ],
   "source": [
    "resultado = (10 + 30)**2 / 100\n",
    "print(resultado)"
   ]
  },
  {
   "cell_type": "markdown",
   "metadata": {},
   "source": [
    "Assim como utilizamos valores inteiros para construir as expressões, podemos usar as variáveis para isso. Vamos explorar isso ao longo de todo o curso. Veja o código a seguir: "
   ]
  },
  {
   "cell_type": "code",
   "execution_count": 23,
   "metadata": {},
   "outputs": [
    {
     "name": "stdout",
     "output_type": "stream",
     "text": [
      "410\n"
     ]
    }
   ],
   "source": [
    "valor1 = 10 \n",
    "valor2 = 30\n",
    "\n",
    "resultado = valor1 + (valor2 - valor1)**2\n",
    "print(resultado)"
   ]
  },
  {
   "cell_type": "markdown",
   "metadata": {},
   "source": [
    "O uso de expressões aritméticas com variáveis é essencial para que a gente possa escrever os mais diversos tipos de programas."
   ]
  },
  {
   "cell_type": "markdown",
   "metadata": {},
   "source": [
    "## Nomes das Variáveis"
   ]
  },
  {
   "cell_type": "markdown",
   "metadata": {},
   "source": [
    "Para cada variável que criamos é necessário identifica-las com um rótulo chamado de `nome da variável`. Por exemplo, no exemplo das notas as variáveis eram identificadas pelos nomes `nota1`, `nota2` e `total`. No entanto, existe uma regra para a criação desses nomes: todas as variáveis devem obrigatoriamente iniciar com uma letra. Após a primeira letra pode conter números ou o símbolo de sublinhado (`_`) juntamente com outras letras. A tabela a seguir retirada do livro **Introdução à programação com Python** do **Nilo Ney Coutinho Menezes** ilustra bem alguns tipos de variáveis permitidos ou não. "
   ]
  },
  {
   "cell_type": "markdown",
   "metadata": {},
   "source": [
    "| Nome | Válido | Comentários | \n",
    "|------|------|------|\n",
    "|a1|Sim|Embora contenha um número, o nome a1 inicia com letra. | \n",
    "|velocidade|Sim|Nome formado por letras. |\n",
    "|velocidade90|Sim|Nome formado por letras e números, mas iniciado por letra. | \n",
    "|salário_médio|Sim|O símbolo sublinha (`_`) é permitido e facilita a leitura de nomes grandes. |\n",
    "|salário médio|Não|Nomes de variáveis não podem conter espaços em branco. |\n",
    "|\\_b|Sim| O sublinha (`_`) é aceito em nomes de variáveis, mesmo no início. | \n",
    "|1a|Não| Nomes de variáveis não podem começar com números. |\n"
   ]
  },
  {
   "cell_type": "markdown",
   "metadata": {},
   "source": [
    "Variáveis permitidas: "
   ]
  },
  {
   "cell_type": "code",
   "execution_count": 24,
   "metadata": {},
   "outputs": [],
   "source": [
    "a1 = 10\n",
    "velocidade = 10\n",
    "velocidade90 = 10\n",
    "salário_médio = 2000\n",
    "_b = 30"
   ]
  },
  {
   "cell_type": "markdown",
   "metadata": {},
   "source": [
    "Variáveis não permitidas: "
   ]
  },
  {
   "cell_type": "code",
   "execution_count": 25,
   "metadata": {},
   "outputs": [
    {
     "ename": "SyntaxError",
     "evalue": "invalid syntax (<ipython-input-25-fe0a51c3a351>, line 1)",
     "output_type": "error",
     "traceback": [
      "\u001b[0;36m  File \u001b[0;32m\"<ipython-input-25-fe0a51c3a351>\"\u001b[0;36m, line \u001b[0;32m1\u001b[0m\n\u001b[0;31m    salário médio = 10\u001b[0m\n\u001b[0m                ^\u001b[0m\n\u001b[0;31mSyntaxError\u001b[0m\u001b[0;31m:\u001b[0m invalid syntax\n"
     ]
    }
   ],
   "source": [
    "salário médio = 10"
   ]
  },
  {
   "cell_type": "code",
   "execution_count": 26,
   "metadata": {},
   "outputs": [
    {
     "ename": "SyntaxError",
     "evalue": "invalid syntax (<ipython-input-26-a1b182b6197e>, line 1)",
     "output_type": "error",
     "traceback": [
      "\u001b[0;36m  File \u001b[0;32m\"<ipython-input-26-a1b182b6197e>\"\u001b[0;36m, line \u001b[0;32m1\u001b[0m\n\u001b[0;31m    1a = 20\u001b[0m\n\u001b[0m     ^\u001b[0m\n\u001b[0;31mSyntaxError\u001b[0m\u001b[0;31m:\u001b[0m invalid syntax\n"
     ]
    }
   ],
   "source": [
    "1a = 20"
   ]
  },
  {
   "cell_type": "markdown",
   "metadata": {},
   "source": [
    "**Atenção ao erro:** Nesses tipos de erros, normalemente, o python imprime a mensagem de `invalid syntax`, ou seja, existe algum erro de sintaxe no código que você construiu. "
   ]
  },
  {
   "cell_type": "markdown",
   "metadata": {},
   "source": [
    "Até aqui trabalhamos com duas informações das variáveis: **nome ou rótulo** e o **valor associado**. No entanto, existe uma outra informação que é associada à variável no momento que a criamos: **o tipo**. "
   ]
  },
  {
   "cell_type": "markdown",
   "metadata": {},
   "source": [
    "## Variáveis e Seus Tipos\n",
    "\n",
    "Quando definimos um valor a uma variável, o python reconhece de forma automática o tipo daquele valor e associa esse tipo à variável. Existem linguagens que isso não é feito de forma automática e precisamos definir explicitamente o tipo daquela variável. Isso acontece em linguagens como `java`, `c++`, `c#` e outras. No entanto, `python` possui uma função que permite verificar que tipo é cada variável. A função `type`. Vamos utiliza-la em alguns exemplos. \n",
    "\n",
    "A linguagem python permite vários tipos que serã melhor trabalhados ao longo do curso. Por enquanto, vale a pena prestar atenção em quatro deles: `números inteiros (int)`, `números de ponto flutuante (float)`, `strings (str)` e `valores lógicos: true ou false (bool)`. O código a seguir, cria uma variável de cada tipo. Em seguida, a gente imprime o tipo delas com a função `type`."
   ]
  },
  {
   "cell_type": "code",
   "execution_count": 27,
   "metadata": {},
   "outputs": [],
   "source": [
    "valor1 = 30\n",
    "valor2 = 30.2\n",
    "valor3 = \"Python\"\n",
    "valor4 = False"
   ]
  },
  {
   "cell_type": "code",
   "execution_count": 28,
   "metadata": {},
   "outputs": [
    {
     "name": "stdout",
     "output_type": "stream",
     "text": [
      "<class 'int'>\n",
      "<class 'float'>\n",
      "<class 'str'>\n",
      "<class 'bool'>\n"
     ]
    }
   ],
   "source": [
    "print(type(valor1))\n",
    "print(type(valor2))\n",
    "print(type(valor3))\n",
    "print(type(valor4))"
   ]
  },
  {
   "cell_type": "markdown",
   "metadata": {},
   "source": [
    "Observe que em nenhum momento definimos esses tipos na criação das variáveis. O python reconhece e atribui estes tipos de forma automática. "
   ]
  },
  {
   "cell_type": "markdown",
   "metadata": {},
   "source": [
    "Agora considere o código a seguir: "
   ]
  },
  {
   "cell_type": "code",
   "execution_count": 29,
   "metadata": {},
   "outputs": [],
   "source": [
    "valor1 = 30\n",
    "valor1 = 30.2\n",
    "valor1 = \"Python\"\n",
    "valor1 = False"
   ]
  },
  {
   "cell_type": "markdown",
   "metadata": {},
   "source": [
    "Ao final do código qual o tipo e o valor da variável `valor1`?"
   ]
  },
  {
   "cell_type": "code",
   "execution_count": 31,
   "metadata": {},
   "outputs": [
    {
     "name": "stdout",
     "output_type": "stream",
     "text": [
      "False\n",
      "<class 'bool'>\n"
     ]
    }
   ],
   "source": [
    "print(valor1)\n",
    "print(type(valor1))"
   ]
  },
  {
   "cell_type": "markdown",
   "metadata": {},
   "source": [
    "Por que isso acontece? Vamos entender esse código na imagem a seguir:"
   ]
  },
  {
   "cell_type": "code",
   "execution_count": 48,
   "metadata": {},
   "outputs": [
    {
     "data": {
      "image/png": "[encoded data removed]",
      "text/plain": [
       "<IPython.core.display.Image object>"
      ]
     },
     "execution_count": 48,
     "metadata": {
      "image/png": {
       "width": 600
      }
     },
     "output_type": "execute_result"
    }
   ],
   "source": [
    "# Desconsidere estas linhas para o estudo da disciplina\n",
    "Image(filename='images/02_image3.png', width=600) "
   ]
  },
  {
   "cell_type": "markdown",
   "metadata": {},
   "source": [
    "Os comandos são executados de forma sequencial. Sendo assim, a cada comando, como estamos fazendo referência à mesma variável, o Python acessa o mesmo espaço na memória. A medida que os comandos são executados, os valores são atualizados substituindo o valor antigo. Isso acontece também com o tipo. O python define a cada comando o tipo adequado. "
   ]
  },
  {
   "cell_type": "markdown",
   "metadata": {},
   "source": [
    "### `<int>` e `<float>`, variáveis do tipo numérica"
   ]
  },
  {
   "cell_type": "markdown",
   "metadata": {},
   "source": [
    "Os tipos inteiro e float são usados para determinar valores numéricos. Vamos criar algumas variáveis de cada tipo."
   ]
  },
  {
   "cell_type": "code",
   "execution_count": 42,
   "metadata": {},
   "outputs": [],
   "source": [
    "valor1 = 10\n",
    "\n",
    "valor2 = -10.3\n",
    "\n",
    "valor3 = -1000000\n",
    "\n",
    "valor4 = 10.483\n",
    "\n",
    "valor5 = 10.0"
   ]
  },
  {
   "cell_type": "markdown",
   "metadata": {},
   "source": [
    "As variáveis `valor1` e `valor3` são do tipo `inteiro`. As demais são variáveis do tipo `float`.\n",
    "\n",
    "Algumas observações: \n",
    "\n",
    "* Assim como na língua inglesa, o `.` é que define a separação decimal (por exemplo, `valor2`, `valor4` e `valor5`). \n",
    "* Não é preciso usar nenhum separador de milhar (por exemplo, variável `valor3`).\n",
    "* O `valor5` mesmo tendo o zero na parte decimal é considerado do tipo `float`.\n",
    "* Tanto os valores inteiros como os floats permitem valores negativos (por exemplo, `valor2` e `valor3`).\n",
    "\n",
    "Vamos imprimir o valor e seus respectivos tipos: "
   ]
  },
  {
   "cell_type": "code",
   "execution_count": 40,
   "metadata": {},
   "outputs": [
    {
     "name": "stdout",
     "output_type": "stream",
     "text": [
      "10\n",
      "<class 'int'>\n"
     ]
    }
   ],
   "source": [
    "print(valor1)\n",
    "print(type(valor1))"
   ]
  },
  {
   "cell_type": "code",
   "execution_count": 41,
   "metadata": {},
   "outputs": [
    {
     "name": "stdout",
     "output_type": "stream",
     "text": [
      "-10.3\n",
      "<class 'float'>\n"
     ]
    }
   ],
   "source": [
    "print(valor2)\n",
    "print(type(valor2))"
   ]
  },
  {
   "cell_type": "code",
   "execution_count": 43,
   "metadata": {},
   "outputs": [
    {
     "name": "stdout",
     "output_type": "stream",
     "text": [
      "1000000\n",
      "<class 'int'>\n"
     ]
    }
   ],
   "source": [
    "print(valor3)\n",
    "print(type(valor3))"
   ]
  },
  {
   "cell_type": "code",
   "execution_count": 44,
   "metadata": {},
   "outputs": [
    {
     "name": "stdout",
     "output_type": "stream",
     "text": [
      "10.483\n",
      "<class 'float'>\n"
     ]
    }
   ],
   "source": [
    "print(valor4)\n",
    "print(type(valor4))"
   ]
  },
  {
   "cell_type": "code",
   "execution_count": 45,
   "metadata": {},
   "outputs": [
    {
     "name": "stdout",
     "output_type": "stream",
     "text": [
      "10.0\n",
      "<class 'float'>\n"
     ]
    }
   ],
   "source": [
    "print(valor5)\n",
    "print(type(valor5))"
   ]
  },
  {
   "cell_type": "markdown",
   "metadata": {},
   "source": [
    "### `<bool>`, a variável lógica"
   ]
  },
  {
   "cell_type": "markdown",
   "metadata": {},
   "source": [
    "Um outro tipo de variável bastante utilizada é a variável lógica. Vamos utilizar bastante esse tipo de representação quando estivermos estudandos condicionais e loops. Esse tipo de variável adimite dois tipos de valores `True` e `False`. \n",
    "\n",
    "Vamos criar duas variáveis lógicas cada uma com um valor:"
   ]
  },
  {
   "cell_type": "code",
   "execution_count": 50,
   "metadata": {},
   "outputs": [],
   "source": [
    "variavel_logica_1 = True\n",
    "variavel_logica_2 = False"
   ]
  },
  {
   "cell_type": "code",
   "execution_count": 51,
   "metadata": {},
   "outputs": [
    {
     "name": "stdout",
     "output_type": "stream",
     "text": [
      "True\n",
      "<class 'bool'>\n"
     ]
    }
   ],
   "source": [
    "print(variavel_logica_1)\n",
    "print(type(variavel_logica_1))"
   ]
  },
  {
   "cell_type": "code",
   "execution_count": 52,
   "metadata": {},
   "outputs": [
    {
     "name": "stdout",
     "output_type": "stream",
     "text": [
      "False\n",
      "<class 'bool'>\n"
     ]
    }
   ],
   "source": [
    "print(variavel_logica_2)\n",
    "print(type(variavel_logica_2))"
   ]
  },
  {
   "cell_type": "markdown",
   "metadata": {},
   "source": [
    "Esse tipo de variável possui seus próprios operadores para que possamos criar as expressões lógicas. Esse operadores são diferentes do que usamos no início da aula para representar as expressões aritméticas. Eles são divididos em duas classes: `opeardores relacionais` e `operadores lógicos`."
   ]
  },
  {
   "cell_type": "markdown",
   "metadata": {},
   "source": [
    "#### Operadores Relacionais\n",
    "\n",
    "Esse operadores são utilizados para realizar comparações lógicas. Como por exemplo, `5 > 3` ou `2 <= 5` e assim por diante. \n",
    "\n",
    "| Operador | Operação \n",
    "|------|------|\n",
    "|==|igualdade|\n",
    "|>|maior que|\n",
    "|<|menor que|\n",
    "|!=|diferente|\n",
    "|>=|maior ou igual|\n",
    "|<=|menor ou igual|\n",
    "\n",
    "#### Operadores Lógicos\n",
    "\n",
    "Já esse tipo de operador é utilizado para agrupar operações com lógica booleana. Por exemplo, `2 > 5 and 2 < 10`. Essas operações são definidas por meio de uma tabela verdade que será mostrada mais a frente.\n",
    "\n",
    "| Operador | Operação \n",
    "|------|------|\n",
    "|not|não (negação)|\n",
    "|and|e (conjunção)|\n",
    "|or|ou (disjunção)|\n"
   ]
  },
  {
   "cell_type": "markdown",
   "metadata": {},
   "source": [
    "Primeiro vamos ver o uso dos operadores relacionais. "
   ]
  },
  {
   "cell_type": "code",
   "execution_count": 55,
   "metadata": {},
   "outputs": [],
   "source": [
    "valor1 = 10\n",
    "valor2 = 20\n",
    "valor3 = 20\n",
    "valor4 = 40"
   ]
  },
  {
   "cell_type": "code",
   "execution_count": 56,
   "metadata": {},
   "outputs": [
    {
     "name": "stdout",
     "output_type": "stream",
     "text": [
      "False\n"
     ]
    }
   ],
   "source": [
    "resultado = valor1 > valor2\n",
    "print(resultado)"
   ]
  },
  {
   "cell_type": "code",
   "execution_count": 57,
   "metadata": {},
   "outputs": [
    {
     "name": "stdout",
     "output_type": "stream",
     "text": [
      "True\n"
     ]
    }
   ],
   "source": [
    "resultado = valor2 <= valor4\n",
    "print(resultado)"
   ]
  },
  {
   "cell_type": "code",
   "execution_count": 58,
   "metadata": {},
   "outputs": [
    {
     "name": "stdout",
     "output_type": "stream",
     "text": [
      "False\n"
     ]
    }
   ],
   "source": [
    "resultado = valor2 != valor3\n",
    "print(resultado)"
   ]
  },
  {
   "cell_type": "code",
   "execution_count": 59,
   "metadata": {},
   "outputs": [
    {
     "name": "stdout",
     "output_type": "stream",
     "text": [
      "True\n"
     ]
    }
   ],
   "source": [
    "resultado = valor2 == valor3\n",
    "print(resultado)"
   ]
  },
  {
   "cell_type": "code",
   "execution_count": 60,
   "metadata": {},
   "outputs": [
    {
     "name": "stdout",
     "output_type": "stream",
     "text": [
      "True\n"
     ]
    }
   ],
   "source": [
    "resultado = valor2 >= valor3\n",
    "print(resultado)"
   ]
  },
  {
   "cell_type": "markdown",
   "metadata": {},
   "source": [
    "Observe que o uso dos operadores relacionais não difere muito do que estamos acostumados a usar na matemática. Bem assim são os operadores lógicos. No entanto, o resultado destes valores são definidos por meio de uma **tabela verdade**. \n",
    "\n",
    "A tabela verdade demonstra o resultado de uma operação com um ou dois valores lógicos ou operandos. Quando o operador utiliza apenas um operando, dizemos que é um operador unário. Ao utilizar dois operandos, é chamado de operador binário. O operador `not` é unário e os operadores `and` e `or` são binários. Vamos ver o uso deles a seguir. "
   ]
  },
  {
   "cell_type": "markdown",
   "metadata": {},
   "source": [
    "O operador `not` obedece a seguinte tabela verdade:\n",
    "\n",
    "| $V_1$ | `not` $V_1$ | \n",
    "|-------|-------------|\n",
    "| V | F | \n",
    "| F | V | \n",
    "\n",
    "Observe que esse operador simplesmente inverte o valor que estava anteriormente. Se era `True` vira `False`. Se era `False` vira `True`."
   ]
  },
  {
   "cell_type": "code",
   "execution_count": 61,
   "metadata": {},
   "outputs": [
    {
     "name": "stdout",
     "output_type": "stream",
     "text": [
      "False\n",
      "True\n"
     ]
    }
   ],
   "source": [
    "valor1 = not True\n",
    "valor2 = not False\n",
    "\n",
    "print(valor1)\n",
    "print(valor2)"
   ]
  },
  {
   "cell_type": "markdown",
   "metadata": {},
   "source": [
    "Podemos utilizar o operador em uma expressão lógica:"
   ]
  },
  {
   "cell_type": "code",
   "execution_count": 63,
   "metadata": {},
   "outputs": [
    {
     "name": "stdout",
     "output_type": "stream",
     "text": [
      "True\n"
     ]
    }
   ],
   "source": [
    "valor1 = 10\n",
    "valor2 = 20\n",
    "valor3 = not (valor1 > valor2)\n",
    "print(valor3)"
   ]
  },
  {
   "cell_type": "markdown",
   "metadata": {},
   "source": [
    "Já o operador binário `and` trabalha com dois valores e obedece a seguinte tabela verade: \n",
    "\n",
    "| $V_1$ | $V_2$ | $V_1$ `and` $V_2$ | \n",
    "|:-------:|:-------:|:-:\n",
    "| V | V | V \n",
    "| V | F | F\n",
    "| F | V | F \n",
    "| F | F | F \n",
    "\n",
    "Esse operador só retorna verdadeiro se os dois valores passados também forem verdadeiros. Caso contrário, retornará falso. "
   ]
  },
  {
   "cell_type": "code",
   "execution_count": 64,
   "metadata": {},
   "outputs": [],
   "source": [
    "valor1 = True and True\n",
    "valor2 = True and False\n",
    "valor3 = False and True \n",
    "valor4 = False and False"
   ]
  },
  {
   "cell_type": "code",
   "execution_count": 65,
   "metadata": {},
   "outputs": [
    {
     "name": "stdout",
     "output_type": "stream",
     "text": [
      "True\n",
      "False\n",
      "False\n",
      "False\n"
     ]
    }
   ],
   "source": [
    "print(valor1)\n",
    "print(valor2)\n",
    "print(valor3)\n",
    "print(valor4)"
   ]
  },
  {
   "cell_type": "markdown",
   "metadata": {},
   "source": [
    "Podemos utiliza-lo em uma expressão lógica: "
   ]
  },
  {
   "cell_type": "code",
   "execution_count": 66,
   "metadata": {},
   "outputs": [
    {
     "name": "stdout",
     "output_type": "stream",
     "text": [
      "False\n"
     ]
    }
   ],
   "source": [
    "nota1 = 10\n",
    "nota2 = 5\n",
    "\n",
    "resultado = nota1 > 5 and nota2 > 5\n",
    "print(resultado)"
   ]
  },
  {
   "cell_type": "markdown",
   "metadata": {},
   "source": [
    "Por fim, temos o operador lógico `or`. Esse operador respeita a seguinte tabela verade: \n",
    "\n",
    "| $V_1$ | $V_2$ | $V_1$ `or` $V_2$ | \n",
    "|:-------:|:-------:|:-:\n",
    "| V | V | V \n",
    "| V | F | V\n",
    "| F | V | V \n",
    "| F | F | F\n",
    "\n",
    "Observe que nesse tipo de operação, basta que um dos valores seja verdadeiro para que o resultado também seja verdadeiro. \n"
   ]
  },
  {
   "cell_type": "code",
   "execution_count": 67,
   "metadata": {},
   "outputs": [],
   "source": [
    "valor1 = True or True\n",
    "valor2 = True or False\n",
    "valor3 = False or True\n",
    "valor4 = False or False"
   ]
  },
  {
   "cell_type": "code",
   "execution_count": 69,
   "metadata": {},
   "outputs": [
    {
     "name": "stdout",
     "output_type": "stream",
     "text": [
      "True\n",
      "True\n",
      "True\n",
      "False\n"
     ]
    }
   ],
   "source": [
    "print(valor1)\n",
    "print(valor2)\n",
    "print(valor3)\n",
    "print(valor4)"
   ]
  },
  {
   "cell_type": "markdown",
   "metadata": {},
   "source": [
    "Em uma expressão lógica, temos: "
   ]
  },
  {
   "cell_type": "code",
   "execution_count": 70,
   "metadata": {},
   "outputs": [
    {
     "name": "stdout",
     "output_type": "stream",
     "text": [
      "True\n"
     ]
    }
   ],
   "source": [
    "nota1 = 10\n",
    "nota2 = 5\n",
    "\n",
    "resultado = nota1 > 6 or nota2 > 5\n",
    "print(resultado)"
   ]
  },
  {
   "cell_type": "markdown",
   "metadata": {},
   "source": [
    "Podemos unir todos esses operadores, lógicos e relacionais, em expressões lógicas mais complexas. Vamos ver alguns exemplos. "
   ]
  },
  {
   "cell_type": "markdown",
   "metadata": {},
   "source": [
    "Considere o seguinte cenário: \n",
    "\n",
    "**Cenário 1:** *Foram coletadas as seguintes informações dos alunos: **idade**, **período corrente** e **ano de entrada**. Para concorrer a uma determinada bolsa, os alunos devem ser maiores de 18 anos, está no quarto período e o ano de entrada tem que ser menor que 2016. Vamos escrever uma expressão aritmética que retorna **verdadeiro** se o aluno atender tais critérios e **falso**, caso contrário. Vamos criar uma variável para cada critério e atribuir os valores `idade = 18`, `periodo_corrente = 4` e `ano_de_entrada = 2015`*. "
   ]
  },
  {
   "cell_type": "code",
   "execution_count": 73,
   "metadata": {},
   "outputs": [
    {
     "name": "stdout",
     "output_type": "stream",
     "text": [
      "False\n"
     ]
    }
   ],
   "source": [
    "idade = 18\n",
    "periodo_corrente = 4\n",
    "ano_de_entrada = 2015\n",
    "\n",
    "resultado = idade > 18 and periodo_corrente == 4 and ano_de_entrada < 2016\n",
    "\n",
    "print(resultado)"
   ]
  },
  {
   "cell_type": "markdown",
   "metadata": {},
   "source": [
    "Para esse caso, o aluno tem que satisfazer todos os critérios. Sendo assim, utilizamos o operador `and` para construir a expressão lógica. \n",
    "\n",
    "Vamos usar os seguintes valores: `idade = 19`, `periodo_corrente = 4` e `ano_de_entrada = 2014`*. "
   ]
  },
  {
   "cell_type": "code",
   "execution_count": 74,
   "metadata": {},
   "outputs": [
    {
     "name": "stdout",
     "output_type": "stream",
     "text": [
      "True\n"
     ]
    }
   ],
   "source": [
    "idade = 19\n",
    "periodo_corrente = 4\n",
    "ano_de_entrada = 2014\n",
    "\n",
    "resultado = idade > 18 and periodo_corrente == 4 and ano_de_entrada < 2016\n",
    "\n",
    "print(resultado)"
   ]
  },
  {
   "cell_type": "markdown",
   "metadata": {},
   "source": [
    "Neste caso, o aluno atende todos os critérios. "
   ]
  },
  {
   "cell_type": "markdown",
   "metadata": {},
   "source": [
    "Vamos para mais um cenário: \n",
    "\n",
    "**Cenário 2:** *Considere agora que queremos verificar se um aluno foi aprovado ou não em uma disciplina. Um aluno é aprovado na disciplina se a média ponderada das disciplinas for maior que 6 e se o aluno tiver frequencia maior que 75% na disciplina. No entanto, se o aluno tiver média maior que 8, a frequencia é descartada. Escreva um código que calcule a média ponderada e verifique se o aluno foi aprovado de acordo com o critério estabelecido. Vamos definir os valores `nota1`, `nota2` e `nota3`. A `nota1` tem peso **1**, a `nota2` tem peso **2** e a `nota3` tem peso **3**.A frequencia será definida como um valor inteiro a partir da variável `frequencia`.*"
   ]
  },
  {
   "cell_type": "code",
   "execution_count": 82,
   "metadata": {},
   "outputs": [
    {
     "name": "stdout",
     "output_type": "stream",
     "text": [
      "True\n"
     ]
    }
   ],
   "source": [
    "nota1 = 10\n",
    "nota2 = 8\n",
    "nota3 = 8\n",
    "frequencia = 60\n",
    "\n",
    "media_ponderada = (1*nota1 + 2*nota2 + 3*nota3) / 6\n",
    "\n",
    "resultado = (media_ponderada > 6 and frequencia > 75) or media_ponderada > 8\n",
    "\n",
    "print(resultado)"
   ]
  },
  {
   "cell_type": "markdown",
   "metadata": {},
   "source": [
    "Considere agora os seguintes valores: \n",
    "\n",
    "`nota1 = 6`\n",
    "`nota2 = 5`\n",
    "`nota3 = 8`\n",
    "`frequencia = 80`"
   ]
  },
  {
   "cell_type": "code",
   "execution_count": 86,
   "metadata": {},
   "outputs": [
    {
     "name": "stdout",
     "output_type": "stream",
     "text": [
      "False\n"
     ]
    }
   ],
   "source": [
    "nota1 = 6\n",
    "nota2 = 5\n",
    "nota3 = 6\n",
    "frequencia = 80\n",
    "\n",
    "media_ponderada = (1*nota1 + 2*nota2 + 3*nota3) / 6\n",
    "\n",
    "resultado = (media_ponderada > 6 and frequencia > 75) or media_ponderada > 8\n",
    "\n",
    "print(resultado)"
   ]
  },
  {
   "cell_type": "markdown",
   "metadata": {},
   "source": [
    "## Muito bem  :)\n",
    "\n",
    "Muito bem. Já vimos uma série de conceitos fundamentais para o estudo de programação. Já vimos algumas utilidades dos conceitos vistos aqui, mas eles serão muito mais aproveitados quando estudarmos conceitos mais avançados de condicionais e repetições. Para tal, é extremamente necessário que estes conceitos básicos estejam bem fundamentados. Desta forma, vamos treinar mais um pouco resolvendo as questões correspondentes na nossa [página de exercícios](100_exercicios.ipynb)."
   ]
  }
 ],
 "metadata": {
  "kernelspec": {
   "display_name": "Python 3",
   "language": "python",
   "name": "python3"
  },
  "language_info": {
   "codemirror_mode": {
    "name": "ipython",
    "version": 3
   },
   "file_extension": ".py",
   "mimetype": "text/x-python",
   "name": "python",
   "nbconvert_exporter": "python",
   "pygments_lexer": "ipython3",
   "version": "3.6.0"
  }
 },
 "nbformat": 4,
 "nbformat_minor": 2
}
