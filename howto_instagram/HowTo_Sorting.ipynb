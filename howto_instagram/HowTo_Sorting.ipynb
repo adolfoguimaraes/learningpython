{
 "cells": [
  {
   "cell_type": "code",
   "execution_count": 41,
   "metadata": {},
   "outputs": [],
   "source": [
    "import numpy\n",
    "import time"
   ]
  },
  {
   "cell_type": "code",
   "execution_count": 42,
   "metadata": {},
   "outputs": [],
   "source": [
    "def bubble_sort(arr):\n",
    "    arr_ = arr[:]\n",
    "    has_changes = True\n",
    "    count = 1\n",
    "    while has_changes:\n",
    "        has_changes = False\n",
    "        for i in range(len(arr_)-count):\n",
    "            if arr_[i] > arr_[i+1]:\n",
    "                arr_[i], arr_[i+1] = arr_[i+1], arr_[i]\n",
    "                has_changes = True\n",
    "        count += 1\n",
    "    \n",
    "    return arr_"
   ]
  },
  {
   "cell_type": "code",
   "execution_count": 43,
   "metadata": {},
   "outputs": [],
   "source": [
    "def quick_sort(arr):\n",
    "    \n",
    "    arr_ = arr[:]\n",
    "    \n",
    "    less, more, pivot_list = [], [], []\n",
    "    \n",
    "    if len(arr_) <= 1: return arr_\n",
    "    else:\n",
    "        \n",
    "        pivot_position = (len(arr_)-1)//2\n",
    "        pivot = arr_[pivot_position]\n",
    "        \n",
    "        for value in arr_:\n",
    "            \n",
    "            if value < pivot: less.append(value)\n",
    "            elif value > pivot: more.append(value)\n",
    "            else: pivot_list.append(value)\n",
    "        \n",
    "        less = quick_sort(less)\n",
    "        more = quick_sort(more)\n",
    "        \n",
    "    return less + pivot_list + more"
   ]
  },
  {
   "cell_type": "code",
   "execution_count": 48,
   "metadata": {},
   "outputs": [
    {
     "name": "stdout",
     "output_type": "stream",
     "text": [
      "Bubble sort time 15.739395\n"
     ]
    }
   ],
   "source": [
    "numbers = list(numpy.random.randint(0, 10000, 10000))\n",
    "\n",
    "start_time = time.time()\n",
    "result_bubble = bubble_sort(numbers)\n",
    "end_time = time.time()\n",
    "\n",
    "print(\"Bubble sort time %f\" % (end_time - start_time))"
   ]
  },
  {
   "cell_type": "code",
   "execution_count": 49,
   "metadata": {},
   "outputs": [
    {
     "name": "stdout",
     "output_type": "stream",
     "text": [
      "Quick sort time 0.063766:\n"
     ]
    }
   ],
   "source": [
    "numbers = list(numpy.random.randint(0, 10000, 10000))\n",
    "\n",
    "start_time = time.time()\n",
    "result_quick = quick_sort(numbers)\n",
    "end_time = time.time()\n",
    "\n",
    "print(\"Quick sort time %f:\" % (end_time - start_time))"
   ]
  },
  {
   "cell_type": "code",
   "execution_count": null,
   "metadata": {},
   "outputs": [],
   "source": []
  },
  {
   "cell_type": "code",
   "execution_count": null,
   "metadata": {},
   "outputs": [],
   "source": []
  },
  {
   "cell_type": "code",
   "execution_count": null,
   "metadata": {},
   "outputs": [],
   "source": []
  },
  {
   "cell_type": "code",
   "execution_count": null,
   "metadata": {},
   "outputs": [],
   "source": []
  },
  {
   "cell_type": "code",
   "execution_count": null,
   "metadata": {},
   "outputs": [],
   "source": []
  },
  {
   "cell_type": "code",
   "execution_count": null,
   "metadata": {},
   "outputs": [],
   "source": [
    "\n",
    "\n",
    "\n",
    "\n",
    "\n",
    "\n",
    "\n",
    "\n",
    "\n",
    "\n",
    "\n"
   ]
  }
 ],
 "metadata": {
  "kernelspec": {
   "display_name": "Python 3",
   "language": "python",
   "name": "python3"
  },
  "language_info": {
   "codemirror_mode": {
    "name": "ipython",
    "version": 3
   },
   "file_extension": ".py",
   "mimetype": "text/x-python",
   "name": "python",
   "nbconvert_exporter": "python",
   "pygments_lexer": "ipython3",
   "version": "3.6.0"
  }
 },
 "nbformat": 4,
 "nbformat_minor": 2
}
