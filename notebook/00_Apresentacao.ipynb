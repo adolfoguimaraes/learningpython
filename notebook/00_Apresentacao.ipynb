{
 "cells": [
  {
   "cell_type": "markdown",
   "metadata": {},
   "source": [
    "# Fundamentos de Programação em Python\n",
    "\n",
    "Esse material tem como objetivo abordar os aspectos dos fundamentos de programação utilizando a linguagem python. Esse material não tem como objetivo substituir livros didáticos de fundamentos. A abordagem é mostrar os aspectos teóricos de fundamentos juntamente com sua implementação em Python.\n",
    "\n",
    "Alguns livros serão utilizados de apoio para preparar o material: \n",
    "\n",
    "* **Introdução à Programação com Python - Algoritmos e lógica de programação para iniciantes** (Nilo Ney Coutinho Menezes - Novatec, 2ª Edição, 2014)\n",
    "\n",
    "## Conteúdo do Curso\n",
    "\n",
    "1. [Introdução à Programação](01_Introducao.ipynb)\n",
    "2. [First Step: meu primeiro programa em Python](02_FirstStep.ipynb)\n",
    "3. Variáveis\n",
    " - [Variáveis: numéricas e lógicas](03_Variaveis_numerica_logica.ipynb)\n",
    " - [Variáveis: tipo string](03_Variaveis_string.ipynb)\n",
    " - [Variáveis: entrada e saída](03_Variaveis_entrada_saida.ipynb)\n",
    "4. [Debugando (rastreando) o programa](04_debugando.ipynb)\n",
    "4. Condições \n",
    "5. Repetições \n",
    "6. Estrutura de Dados primitivas\n",
    "7. Funções\n",
    "8. Módulos\n",
    "9. Arquivos\n",
    "\n",
    "## Ferramentas\n",
    "\n",
    "Para executado os códigos deste material é necessário ter a linguagem Python instalada no computador. Preferencialmente a versão 3.x já que todo o curso foi preparado utilizando essa versão. O uso de uma IDE específica para executar os códigos é opcional. Uma IDE recomendada é a PyCharm. \n",
    "\n",
    "## Dúvidas? \n",
    "\n",
    "Qualquer dúvida sobre o material proposto entre em contato através do e-mail: adolfo@data2learning.com "
   ]
  }
 ],
 "metadata": {
  "kernelspec": {
   "display_name": "Python 3",
   "language": "python",
   "name": "python3"
  },
  "language_info": {
   "codemirror_mode": {
    "name": "ipython",
    "version": 3
   },
   "file_extension": ".py",
   "mimetype": "text/x-python",
   "name": "python",
   "nbconvert_exporter": "python",
   "pygments_lexer": "ipython3",
   "version": "3.6.0"
  }
 },
 "nbformat": 4,
 "nbformat_minor": 2
}
