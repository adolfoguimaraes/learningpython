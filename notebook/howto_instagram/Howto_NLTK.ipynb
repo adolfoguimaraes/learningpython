{
 "cells": [
  {
   "cell_type": "code",
   "execution_count": 2,
   "metadata": {},
   "outputs": [],
   "source": [
    "import warnings\n",
    "warnings.filterwarnings('ignore')"
   ]
  },
  {
   "cell_type": "code",
   "execution_count": 3,
   "metadata": {},
   "outputs": [],
   "source": [
    "# import nltk and wikipedia\n",
    "\n",
    "import nltk\n",
    "import wikiapi\n",
    "from nltk.corpus import stopwords\n",
    "from nltk.tokenize import regexp_tokenize\n",
    "\n",
    "# get article Artificial Intelligence from \n",
    "# wikipedia\n",
    "\n",
    "wiki = wikiapi.WikiApi({'locale': 'en'})\n",
    "results = wiki.find(\"Artificial Intelligence\")\n",
    "d = wiki.get_article(results[0])\n",
    "article = d.content.lower()"
   ]
  },
  {
   "cell_type": "code",
   "execution_count": 4,
   "metadata": {},
   "outputs": [],
   "source": [
    "# tokenizer a text using regular expression\n",
    "\n",
    "pattern = r'(\\w+)'\n",
    "en_stopwords = stopwords.words(['english'])\n",
    "tokens = regexp_tokenize(article, pattern)\n",
    "tokens_clean = [word for word in tokens\n",
    "               if word not in en_stopwords]"
   ]
  },
  {
   "cell_type": "code",
   "execution_count": 5,
   "metadata": {},
   "outputs": [
    {
     "name": "stdout",
     "output_type": "stream",
     "text": [
      "ai 153\n",
      "intelligence 96\n",
      "artificial 73\n",
      "human 59\n",
      "machine 54\n",
      "learning 54\n",
      "research 45\n",
      "networks 41\n",
      "many 41\n",
      "problems 37\n"
     ]
    }
   ],
   "source": [
    "# print frequence terms\n",
    "\n",
    "terms = nltk.FreqDist(tokens_clean)\n",
    "terms = terms.most_common(10)\n",
    "for term in terms:\n",
    "    print(term[0], term[1])"
   ]
  }
 ],
 "metadata": {
  "kernelspec": {
   "display_name": "Python 3",
   "language": "python",
   "name": "python3"
  },
  "language_info": {
   "codemirror_mode": {
    "name": "ipython",
    "version": 3
   },
   "file_extension": ".py",
   "mimetype": "text/x-python",
   "name": "python",
   "nbconvert_exporter": "python",
   "pygments_lexer": "ipython3",
   "version": "3.6.0"
  }
 },
 "nbformat": 4,
 "nbformat_minor": 2
}
