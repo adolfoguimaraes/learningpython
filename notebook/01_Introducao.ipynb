{
 "cells": [
  {
   "cell_type": "markdown",
   "metadata": {},
   "source": [
    "# Introdução à Programação"
   ]
  },
  {
   "cell_type": "markdown",
   "metadata": {},
   "source": [
    "O objetivo desta primeira aula é discutir a importância de aprender a programar hoje em dia e os primeiros conceitos relacionados à algoritmos. O material será apresentado no slide correspondente e nas atividades sugeridas. Ambos descritos a seguir. \n",
    "\n",
    "## Slides"
   ]
  },
  {
   "cell_type": "code",
   "execution_count": 4,
   "metadata": {},
   "outputs": [
    {
     "data": {
      "text/html": [
       "<iframe src=\"https://docs.google.com/presentation/d/e/2PACX-1vQwR4-5LoSVyFcGkSSvZI9QEMsZwche9flVKN990IRYUYWADuLV5wdj5ZHqrJnBZPL_VGOQI4XBCWTp/embed?start=false&loop=false&delayms=60000\" frameborder=\"0\" width=\"480\" height=\"299\" allowfullscreen=\"true\" mozallowfullscreen=\"true\" webkitallowfullscreen=\"true\"></iframe>"
      ],
      "text/plain": [
       "<IPython.core.display.HTML object>"
      ]
     },
     "execution_count": 4,
     "metadata": {},
     "output_type": "execute_result"
    }
   ],
   "source": [
    "import IPython\n",
    "iframe = '<iframe src=\"https://docs.google.com/presentation/d/e/2PACX-1vQwR4-5LoSVyFcGkSSvZI9QEMsZwche9flVKN990IRYUYWADuLV5wdj5ZHqrJnBZPL_VGOQI4XBCWTp/embed?start=false&loop=false&delayms=60000\" frameborder=\"0\" width=\"480\" height=\"299\" allowfullscreen=\"true\" mozallowfullscreen=\"true\" webkitallowfullscreen=\"true\"></iframe>'\n",
    "IPython.display.HTML(iframe)"
   ]
  },
  {
   "cell_type": "markdown",
   "metadata": {},
   "source": [
    "## Atividades\n",
    "\n",
    "Para esta aula são propostas 4 atividades para trabalhar o racicínio lógico. O objetivo destas tarefas é permitir que o aluno comece a desenvolver o pensamento lógico essencial para o ensino de programação. No entanto, não se espera que o aluno adquira tudo isso nesta primeira aula. Tal conheciemento será desenvolvido e aprimorado ao longo da disciplina.\n",
    "\n",
    "Para acessar as atividades, acesse o site: [learningpython.data2learning.com](http://learningpython.data2learning.com) e acesse o menu introdução. A descrição de cada atividade está descrita quando escolher cada uma delas. \n"
   ]
  },
  {
   "cell_type": "markdown",
   "metadata": {},
   "source": [
    "Na próxima aula vamos começar a programar de verdade. Bom trabalho ;) "
   ]
  }
 ],
 "metadata": {
  "kernelspec": {
   "display_name": "Python 3",
   "language": "python",
   "name": "python3"
  },
  "language_info": {
   "codemirror_mode": {
    "name": "ipython",
    "version": 3
   },
   "file_extension": ".py",
   "mimetype": "text/x-python",
   "name": "python",
   "nbconvert_exporter": "python",
   "pygments_lexer": "ipython3",
   "version": "3.6.0"
  }
 },
 "nbformat": 4,
 "nbformat_minor": 2
}
