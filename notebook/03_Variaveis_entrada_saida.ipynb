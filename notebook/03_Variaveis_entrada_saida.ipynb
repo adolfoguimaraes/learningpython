{
 "cells": [
  {
   "cell_type": "markdown",
   "metadata": {},
   "source": [
    "# Variáveis: entrada e saída\n",
    "\n",
    "Para finalizarmos nosso estudo de variáveis vamos trabalhar com a entrada de dados por usuários. Até aqui, todos os valores das variáveis foram passados diretamente no código. No entanto, em alguns casos é muito mais interessante que os dados sejam passados pelo usuário. Vamos entender essa questão com o problema a seguir. "
   ]
  },
  {
   "cell_type": "markdown",
   "metadata": {},
   "source": [
    "Imagine que queremos calcular a média de um aluno que tirou 5 na primeira nota e 8 na segunda nota. O código para esse problema é mostrado a seguir. "
   ]
  },
  {
   "cell_type": "code",
   "execution_count": 5,
   "metadata": {},
   "outputs": [
    {
     "name": "stdout",
     "output_type": "stream",
     "text": [
      "A média é 6.5\n"
     ]
    }
   ],
   "source": [
    "nota1 = 5\n",
    "nota2 = 8\n",
    "\n",
    "media = (nota1 + nota2) / 2\n",
    "\n",
    "print(\"A média é %.1f\" % media)"
   ]
  },
  {
   "cell_type": "markdown",
   "metadata": {},
   "source": [
    "Agora se quisermos calcular para um aluno que tirou 7 e 10?"
   ]
  },
  {
   "cell_type": "code",
   "execution_count": 7,
   "metadata": {},
   "outputs": [
    {
     "name": "stdout",
     "output_type": "stream",
     "text": [
      "A média é 8.5\n"
     ]
    }
   ],
   "source": [
    "nota1 = 7\n",
    "nota2 = 10\n",
    "\n",
    "media = (nota1 + nota2) / 2\n",
    "\n",
    "print(\"A média é %.1f\" % media)"
   ]
  },
  {
   "cell_type": "markdown",
   "metadata": {},
   "source": [
    "Observe que precisamos repetir o código novamente. Devemos evitar isso. Seria muito mais interessante se pudéssemos entrar com as notas cada vez que rodássemos o código. Para que isso seja possível, devemo permitir que o python leia dados inseridos pelo usuário. Uma das formas de fazer isso é pela função pré-definida `input`. A função deve ser escrita em minúsculo e seguida por dois parênteses. Como parâmetro (o texto entre os dois parênteses) deve ser a mensagem que é exibida ao solicitar os dados do usuário."
   ]
  },
  {
   "cell_type": "code",
   "execution_count": 10,
   "metadata": {},
   "outputs": [
    {
     "name": "stdout",
     "output_type": "stream",
     "text": [
      "Digite a nota 1: 7\n",
      "Digite a nota 2: 10\n"
     ]
    },
    {
     "ename": "TypeError",
     "evalue": "unsupported operand type(s) for /: 'str' and 'int'",
     "output_type": "error",
     "traceback": [
      "\u001b[0;31m---------------------------------------------------------------------------\u001b[0m",
      "\u001b[0;31mTypeError\u001b[0m                                 Traceback (most recent call last)",
      "\u001b[0;32m<ipython-input-10-58fc58696a10>\u001b[0m in \u001b[0;36m<module>\u001b[0;34m()\u001b[0m\n\u001b[1;32m      2\u001b[0m \u001b[0mnota2\u001b[0m \u001b[0;34m=\u001b[0m \u001b[0minput\u001b[0m\u001b[0;34m(\u001b[0m\u001b[0;34m\"Digite a nota 2: \"\u001b[0m\u001b[0;34m)\u001b[0m\u001b[0;34m\u001b[0m\u001b[0m\n\u001b[1;32m      3\u001b[0m \u001b[0;34m\u001b[0m\u001b[0m\n\u001b[0;32m----> 4\u001b[0;31m \u001b[0mmedia\u001b[0m \u001b[0;34m=\u001b[0m \u001b[0;34m(\u001b[0m\u001b[0mnota1\u001b[0m \u001b[0;34m+\u001b[0m \u001b[0mnota2\u001b[0m\u001b[0;34m)\u001b[0m \u001b[0;34m/\u001b[0m \u001b[0;36m2\u001b[0m\u001b[0;34m\u001b[0m\u001b[0m\n\u001b[0m\u001b[1;32m      5\u001b[0m \u001b[0;34m\u001b[0m\u001b[0m\n\u001b[1;32m      6\u001b[0m \u001b[0mprint\u001b[0m\u001b[0;34m(\u001b[0m\u001b[0;34m\"A média é %.1f\"\u001b[0m \u001b[0;34m%\u001b[0m \u001b[0mmedia\u001b[0m\u001b[0;34m)\u001b[0m\u001b[0;34m\u001b[0m\u001b[0m\n",
      "\u001b[0;31mTypeError\u001b[0m: unsupported operand type(s) for /: 'str' and 'int'"
     ]
    }
   ],
   "source": [
    "nota1 = input(\"Digite a nota 1: \")\n",
    "nota2 = input(\"Digite a nota 2: \")\n",
    "\n",
    "media = (nota1 + nota2) / 2\n",
    "\n",
    "print(\"A média é %.1f\" % media)"
   ]
  },
  {
   "cell_type": "markdown",
   "metadata": {},
   "source": [
    "O erro `unsupported operand type(s) for /: 'str' and 'int'` indica que tivemos um problema de tipo na expressão da linha 4. Vamos entender. \n",
    "\n",
    "O método `input` lê as informações digitadas pelo usuário e retonar estes valores como uma string. Então quando fizemos a operação `(nota1 + nota2)` estávamos na verdade concatenando duas strings. Quando tentamos usar a divisão (`\\`) de uma string com um inteiro, o python retornou o erro. Para consertar esse erro, devemos converter os valores de `nota1` e `nota2` para inteiro ou float. Na ocasião, vamos converter para `float` usando a função pré-definida `float`."
   ]
  },
  {
   "cell_type": "code",
   "execution_count": 11,
   "metadata": {},
   "outputs": [
    {
     "name": "stdout",
     "output_type": "stream",
     "text": [
      "Digite a nota 1: 7\n",
      "Digite a nota 2: 10\n",
      "A média é 8.5\n"
     ]
    }
   ],
   "source": [
    "nota1 = input(\"Digite a nota 1: \")\n",
    "nota2 = input(\"Digite a nota 2: \")\n",
    "\n",
    "media = (float(nota1) + float(nota2)) / 2\n",
    "\n",
    "print(\"A média é %.1f\" % media)"
   ]
  },
  {
   "cell_type": "markdown",
   "metadata": {},
   "source": [
    "Agora os operadores foram aplicados de forma correta. \n",
    "\n",
    "Uma outra forma de resolver esse problema é delegar a função de conversão para o Python. Da mesma forma que o python atribui as variáveis de forma automática na atribuição dos valores, podemos fazer isso no momento do `input`. Isso pode ser feito pela função pré-definida `eval` no momento que chamamos a função `input`. Vamos ao exemplo:"
   ]
  },
  {
   "cell_type": "code",
   "execution_count": 12,
   "metadata": {},
   "outputs": [
    {
     "name": "stdout",
     "output_type": "stream",
     "text": [
      "Digite a nota 1: 7\n",
      "Digite a nota 2: 10\n",
      "A média é 8.5\n"
     ]
    }
   ],
   "source": [
    "nota1 = eval(input(\"Digite a nota 1: \"))\n",
    "nota2 = eval(input(\"Digite a nota 2: \"))\n",
    "\n",
    "media = (nota1 + nota2) / 2\n",
    "\n",
    "print(\"A média é %.1f\" % media)"
   ]
  },
  {
   "cell_type": "markdown",
   "metadata": {},
   "source": [
    "Desta forma, não precisamos nos preocupar em converter esse valor em outra parte do código. "
   ]
  },
  {
   "cell_type": "markdown",
   "metadata": {},
   "source": [
    "Vamos ver mais um exemplo: queremos ler além da nota, o nome do aluno e imprimir a mensagem: `\"O aluno tirou as notas x e y e obteve a média z\"`."
   ]
  },
  {
   "cell_type": "code",
   "execution_count": 17,
   "metadata": {},
   "outputs": [
    {
     "name": "stdout",
     "output_type": "stream",
     "text": [
      "Digite o nome do Aluno: João da Silva\n",
      "Digite a nota 1: 7\n",
      "Digite a nota 2: 10\n",
      "O João da Silva tirou as notas 7.00 e 10.00 e obteve a média 8.50\n"
     ]
    }
   ],
   "source": [
    "nome = input(\"Digite o nome do Aluno: \")\n",
    "nota1 = eval(input(\"Digite a nota 1: \"))\n",
    "nota2 = eval(input(\"Digite a nota 2: \"))\n",
    "\n",
    "media = (nota1 + nota2) / 2\n",
    "\n",
    "print(\"O %s tirou as notas %.2f e %.2f e obteve a média %.2f\" % (nome, nota1, nota2, media) )"
   ]
  },
  {
   "cell_type": "markdown",
   "metadata": {},
   "source": [
    "Perceba que no caso do nome que é uma string não precisamos inserir a função `eval` na leitura dos valores. "
   ]
  },
  {
   "cell_type": "markdown",
   "metadata": {},
   "source": [
    "### É isso. \n",
    "\n",
    "Devemos ter muito cuidado com o comando `input`. O uso do eval já resolve alguns problemas de entrada. No entanto, como o campo é aberto ao usuário digitar isso é sucetível a erros. Com o aprimoramento dos comandos ao longo do curso vamos poder fazer tratamento de erros melhores para as entradas. \n",
    "\n",
    "O que vimos até aqui já é suficiente para construirmos diversos programas. \n",
    "\n",
    "Exercite!!! Não se limite aos exemplos passados aqui no curso. Crie seus próprios programas. Acesse a [página de exercícios](100_exercicio.ipynb) e resolva as questões. "
   ]
  }
 ],
 "metadata": {
  "kernelspec": {
   "display_name": "Python 3",
   "language": "python",
   "name": "python3"
  },
  "language_info": {
   "codemirror_mode": {
    "name": "ipython",
    "version": 3
   },
   "file_extension": ".py",
   "mimetype": "text/x-python",
   "name": "python",
   "nbconvert_exporter": "python",
   "pygments_lexer": "ipython3",
   "version": "3.6.0"
  }
 },
 "nbformat": 4,
 "nbformat_minor": 2
}
