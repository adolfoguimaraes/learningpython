{
 "cells": [
  {
   "cell_type": "markdown",
   "metadata": {},
   "source": [
    "# Debugando (rastreando) um programa\n",
    "\n",
    "Uma tarefa importantíssima para qualquer programador é saber rastrear ou debugar um código. Debugar nada mais é do que acompanhar passo a passo a execução do programa. No entanto, esse rastreamento deve ser realizado acompanhando o valor de cada uma das variáveis. Isso é muito importante na identificação de possíveis erros. \n",
    "\n",
    "Vamos abordar essa questão com o código a seguir. Vamos explicar como fazer o rastreamento na mão e utilizando uma ferramenta de `debug` da IDE `PyCharm`. Todas as IDEs vem com uma ferramenta que permite fazer esse trabalho. No entanto, é muito importante entermos essa tarefa sem ferramenta nenhuma. Isso ajuda a analisar o código que estamos produzindo. \n",
    "\n",
    "O código a seguir é bem simples, mas vamos que ao andar do curso essa tarefa fica cada vez mais complexa. "
   ]
  },
  {
   "cell_type": "code",
   "execution_count": 3,
   "metadata": {},
   "outputs": [
    {
     "name": "stdout",
     "output_type": "stream",
     "text": [
      "600\n"
     ]
    }
   ],
   "source": [
    "divida = 0\n",
    "compra = 100\n",
    "divida = divida + compra\n",
    "compra = 200\n",
    "divida = divida + compra\n",
    "compra = 300\n",
    "divida = divida + compra\n",
    "compra = 0\n",
    "print(divida)"
   ]
  },
  {
   "cell_type": "markdown",
   "metadata": {},
   "source": [
    "Ao final o valor de `divida` assumiu o valor de 600. No entanto, o valor foi modificado várias vezes ao longo do código e isso pode dificultar o rastreamento desse valor. Vamos fazer o rastreamento na mão e em seguida utilizando a IDE. Vamos ao vídeo. "
   ]
  }
 ],
 "metadata": {
  "kernelspec": {
   "display_name": "Python 3",
   "language": "python",
   "name": "python3"
  },
  "language_info": {
   "codemirror_mode": {
    "name": "ipython",
    "version": 3
   },
   "file_extension": ".py",
   "mimetype": "text/x-python",
   "name": "python",
   "nbconvert_exporter": "python",
   "pygments_lexer": "ipython3",
   "version": "3.6.0"
  }
 },
 "nbformat": 4,
 "nbformat_minor": 2
}
