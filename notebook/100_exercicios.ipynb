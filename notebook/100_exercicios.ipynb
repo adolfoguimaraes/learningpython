{
 "cells": [
  {
   "cell_type": "markdown",
   "metadata": {},
   "source": [
    "`Última atualização: 26/03/2018`"
   ]
  },
  {
   "cell_type": "markdown",
   "metadata": {},
   "source": [
    "# Exercícios\n",
    "\n",
    "Nesta página serão disponibilizados todos os exercícios do curso. Cada grupo de exercício está separado de acordo com o assunto correspondente. Esses exercícios devem ser utilizados para reforçar o entendimento dos conceitos básicos vistos durante o curso. "
   ]
  },
  {
   "cell_type": "markdown",
   "metadata": {},
   "source": [
    "## First Step\n",
    "\n",
    "Crie um programa em Python onde serão lidos 6 números do usuário. Cada número vai ser armazenado em uma variável. Em seguida, calcule a soma do primeiro e do segundo e armazene em uma nova variável. Depois calcule a soma do terceiro e do quarto e armazene seu valor em outra variável. Por fim, armazene os valores da quinta e sexta variável. Quando tiver todos os valores calculados, crie uma variável `valor_final` com das 3 somas calculadas anteriormente. Imprima o valor final em uma mensagem formatada da seguinte maneira: `O valor final calculado foi X`, onde `X` é o valor de `valor_final`. "
   ]
  },
  {
   "cell_type": "markdown",
   "metadata": {},
   "source": [
    "## Variáveis\n",
    "\n",
    "### Variáveis numéricas e lógicas\n",
    "\n",
    "**01)** Converta as seguintes expressões em Python: \n",
    "\n",
    "a) $10 + 20 \\times 30$\n",
    "\n",
    "\n",
    "b) $\\frac{4^2}{39}$\n",
    "\n",
    "\n",
    "c) $(9^4 + 2) \\times 6 - 1$\n",
    "\n",
    "\n",
    "d) $\\frac{10}{3} \\times 10^2 + 1 - 10 * \\frac{4}{2}$\n",
    "\n",
    "\n",
    "**02)** Faça um algoritmo que receba dois números inteiros e exiba a soma deles.\n",
    "\n",
    "**03)** Faça um algoritmo que dada uma temperatura em Celsius converta para Kelvin e para Fahrenheit. Imprimir os dois valores.\n",
    "\n",
    "**04)** Faça um algoritmo que leia um valor em dólar e converta-o para real. Considere que cada dólar vale R\\$ 3,40.\n",
    "\n",
    "**05)** Faça um algoritmo que receba o dia, o mês, o ano e imprima o valor correspondente em anos.\n",
    "\n",
    "**06)** Faça um algoritmo que receba as horas, os minutos e converta para horas.\n",
    "\n",
    "**07)** Escreva um algoritmo que troque o valor de duas variáveis. Imprima os valores das variáveis antes e depois da troca.\n",
    "\n",
    "**08)** Faça um algoritmo que leia o valor de uma compra e o número de prestações. O algoritmo deve imprimir o valor total da compra e o valor de cada prestação. Imprima o valor de uma expressão lógica que verifica se os valores de todas as prestações ficam acima de R\\$ 500. \n",
    "\n",
    "**09)** Em uma determinada loja, o salário do vendedor é composto por um salário fixo mais 15\\% de comissão em cima das vendas efetuadas. Escreva um algoritmo que calcule o valor final do salário de um vendedor que ao final do mês vendeu R\\$ 8000 em produtos. Imprima o salário final do vendedor. O vendedor recebe um bônus se a comissão for maior que R\\$ 1000. Imprima o valor da expressão lógica que testa esse critério."
   ]
  },
  {
   "cell_type": "markdown",
   "metadata": {},
   "source": [
    "### Strings, entrada e saída\n",
    "\n",
    "**01)** Refaça os exemplos da primeira aula de variáveis. No entanto, utilize a entrada de dados para coletar as informações das variáveis e imprima mensagens mais apropriadas utilizandos os recursos de concatenação e composição vistos na aula passada.\n",
    "\n",
    "**02)** Crie um programa que leia duas notas e calcule a média ponderada do aluno. A primeira nota tem peso 4 e a segunda tem peso 6. Na saída imprima a mensage `O aluno obteve a média Z a partir das notas X e Y`, onde `Z` é a média ponderada calculada e `X` e `Y` as notas da prova 1 e 2, respectivamente. \n",
    "\n",
    "**03)** Escreva um programa que colete informações cadastrais de um aluno: nome, idade, data de nascimento, curso e período. Imprima estas informações da seguinte maneira:\n",
    "\n",
    "```\n",
    "Nome do Aluno: João da Silva\n",
    "Idade: 22 anos\n",
    "Data de Nascimento: 13/04/96\n",
    "Curso: Jogos Digitais\n",
    "Período: 1\n",
    "```\n",
    "\n",
    "**Dica: podemos utilizar `\\n` para criar uma quebra de linha. Pesquisem como usar.**\n",
    "\n",
    "**04)** Escreva um programa que leia o nome e nota de 5 alunos. Deve ser impresso o nome e a nota de cada aluno juntamente com a média das notas. Imprima tais informações da seguinte maneira:\n",
    "\n",
    "```\n",
    "Nota do aluno João da Silva: 7.5\n",
    "Nota do aluno Maria dos Santos: 8.0\n",
    "Nota do aluno Eduardo Santana: 6.0\n",
    "Nota do aluno Manoel Lima: 7.0\n",
    "Nota do aluno Aline Silva: 9.0\n",
    "----\n",
    "Média da Turma: 7.5\n",
    "```"
   ]
  },
  {
   "cell_type": "markdown",
   "metadata": {},
   "source": [
    "# Condicionais\n",
    "\n",
    "**01)** Escreva um algoritmo que leia um número e determine se ele é par ou ímpar.\n",
    "\n",
    "**02)** Escreva um algoritmo que leia os números A e B e determine se A é divisível por B.\n",
    "\n",
    "**03)** Escreva um algoritmo que calcule a média de uma disciplina, imprima a média do aluno e a informação se ele foi aprovado ou reprovado. A média é calculada pela média ponderada de três notas com pesos 1, 2 e 3. O aluno é aprovado se obter média maior que 6.\n",
    "\n",
    "**04)** Escreva um algoritmo que leia a média de um aluno e a frequência (em %) na disciplina e imprima se o aluno foi aprovado ou reprovado. O aluno é aprovado se obter média maior que 6 e frequência maior que 75%. Se o aluno obter média menor que 6 ou frequência menor que 75% ele é reprovado. O aluno que obter média maior que 7 é aprovado independente da frequência.\n",
    "\n",
    "**05)** Escreva um algoritmo que leia três números. Determine o maior e o menor entre eles.\n",
    "\n",
    "**06)** Escreva um algoritmo que leia quatro números e escreva estes números em ordem crescente.\n",
    "\n"
   ]
  }
 ],
 "metadata": {
  "kernelspec": {
   "display_name": "Python 3",
   "language": "python",
   "name": "python3"
  },
  "language_info": {
   "codemirror_mode": {
    "name": "ipython",
    "version": 3
   },
   "file_extension": ".py",
   "mimetype": "text/x-python",
   "name": "python",
   "nbconvert_exporter": "python",
   "pygments_lexer": "ipython3",
   "version": "3.6.0"
  }
 },
 "nbformat": 4,
 "nbformat_minor": 2
}
